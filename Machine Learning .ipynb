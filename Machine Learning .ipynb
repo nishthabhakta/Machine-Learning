{
 "cells": [
  {
   "cell_type": "code",
   "execution_count": 57,
   "metadata": {},
   "outputs": [],
   "source": [
    "import pandas as pd\n",
    "import numpy as np\n",
    "from sklearn.preprocessing import LabelEncoder #For assigning unique integer value to a catogeries\n",
    "from sklearn.preprocessing import OneHotEncoder #For creating columns for all \n",
    "#the categories and assigning 1 or 0(notation for true/false) value to the column\n",
    "from sklearn.model_selection import train_test_split\n",
    "from imblearn.over_sampling import (RandomOverSampler)\n",
    "from sklearn.tree import DecisionTreeClassifier\n",
    "from sklearn import metrics\n",
    "from sklearn.metrics import confusion_matrix \n",
    "from sklearn.metrics import accuracy_score\n",
    "from sklearn.metrics import classification_report\n",
    "from sklearn.ensemble import RandomForestClassifier\n",
    "from sklearn.ensemble import GradientBoostingClassifier\n",
    "#SMOTE Libraries\n",
    "from imblearn.over_sampling import SMOTE\n",
    "#ADASYN Libraries \n",
    "from imblearn.over_sampling import ADASYN\n",
    "#Feature Engineering\n",
    "import matplotlib.pyplot as plt\n",
    "import seaborn as sns"
   ]
  },
  {
   "cell_type": "code",
   "execution_count": 58,
   "metadata": {},
   "outputs": [],
   "source": [
    "# import sys\n",
    "# !{sys.executable} -m pip install imblearn --user"
   ]
  },
  {
   "cell_type": "code",
   "execution_count": 59,
   "metadata": {},
   "outputs": [],
   "source": [
    "data=pd.read_csv(r'C:\\Users\\nishtha\\Desktop\\MachineLearning\\StartupFile_USA_Final.csv')"
   ]
  },
  {
   "cell_type": "code",
   "execution_count": 60,
   "metadata": {},
   "outputs": [
    {
     "data": {
      "text/html": [
       "<div>\n",
       "<style scoped>\n",
       "    .dataframe tbody tr th:only-of-type {\n",
       "        vertical-align: middle;\n",
       "    }\n",
       "\n",
       "    .dataframe tbody tr th {\n",
       "        vertical-align: top;\n",
       "    }\n",
       "\n",
       "    .dataframe thead th {\n",
       "        text-align: right;\n",
       "    }\n",
       "</style>\n",
       "<table border=\"1\" class=\"dataframe\">\n",
       "  <thead>\n",
       "    <tr style=\"text-align: right;\">\n",
       "      <th></th>\n",
       "      <th>startupName</th>\n",
       "      <th>homepage_url</th>\n",
       "      <th>category_list</th>\n",
       "      <th>total_funding</th>\n",
       "      <th>status</th>\n",
       "      <th>country_code</th>\n",
       "      <th>state_code</th>\n",
       "      <th>funding_rounds</th>\n",
       "      <th>first_funding_at</th>\n",
       "      <th>last_funding_at</th>\n",
       "      <th>homepage_url_code</th>\n",
       "      <th>time_delayFor_first_round</th>\n",
       "      <th>average_time_delay_rounds</th>\n",
       "      <th>average_raised_usd</th>\n",
       "      <th>average_time_delay_rounds_number</th>\n",
       "      <th>time_delayFor_first_round_number</th>\n",
       "      <th>statusCode</th>\n",
       "      <th>No_Of_Investors</th>\n",
       "      <th>MainCategory</th>\n",
       "      <th>USA_Region</th>\n",
       "    </tr>\n",
       "  </thead>\n",
       "  <tbody>\n",
       "    <tr>\n",
       "      <th>0</th>\n",
       "      <td>One Inc.</td>\n",
       "      <td>http://whatis1.com</td>\n",
       "      <td>mobile</td>\n",
       "      <td>1150050.0</td>\n",
       "      <td>operating</td>\n",
       "      <td>USA</td>\n",
       "      <td>CA</td>\n",
       "      <td>3</td>\n",
       "      <td>7/20/11</td>\n",
       "      <td>2/5/14</td>\n",
       "      <td>1</td>\n",
       "      <td>566 days 00:00:00.000000000</td>\n",
       "      <td>465 days 12:00:00.000000000</td>\n",
       "      <td>575025.0</td>\n",
       "      <td>465</td>\n",
       "      <td>566</td>\n",
       "      <td>1</td>\n",
       "      <td>12</td>\n",
       "      <td>mobile</td>\n",
       "      <td>West</td>\n",
       "    </tr>\n",
       "    <tr>\n",
       "      <th>1</th>\n",
       "      <td>10-20 Media</td>\n",
       "      <td>http://www.10-20media.com</td>\n",
       "      <td>e-commerce</td>\n",
       "      <td>2050000.0</td>\n",
       "      <td>operating</td>\n",
       "      <td>USA</td>\n",
       "      <td>MD</td>\n",
       "      <td>4</td>\n",
       "      <td>6/18/09</td>\n",
       "      <td>12/28/11</td>\n",
       "      <td>1</td>\n",
       "      <td>285 days 00:00:00.000000000</td>\n",
       "      <td>307 days 16:00:00.000000000</td>\n",
       "      <td>512500.0</td>\n",
       "      <td>307</td>\n",
       "      <td>285</td>\n",
       "      <td>0</td>\n",
       "      <td>1</td>\n",
       "      <td>e-commerce</td>\n",
       "      <td>South</td>\n",
       "    </tr>\n",
       "    <tr>\n",
       "      <th>2</th>\n",
       "      <td>Redox</td>\n",
       "      <td>http://www.redoxengine.com</td>\n",
       "      <td>health care|health care information technology...</td>\n",
       "      <td>4000000.0</td>\n",
       "      <td>operating</td>\n",
       "      <td>USA</td>\n",
       "      <td>WI</td>\n",
       "      <td>2</td>\n",
       "      <td>11/26/14</td>\n",
       "      <td>10/20/15</td>\n",
       "      <td>1</td>\n",
       "      <td>328 days 00:00:00.000000000</td>\n",
       "      <td>328 days 00:00:00.000000000</td>\n",
       "      <td>2000000.0</td>\n",
       "      <td>328</td>\n",
       "      <td>328</td>\n",
       "      <td>1</td>\n",
       "      <td>6</td>\n",
       "      <td>healthcare</td>\n",
       "      <td>Midwest</td>\n",
       "    </tr>\n",
       "    <tr>\n",
       "      <th>3</th>\n",
       "      <td>10sec</td>\n",
       "      <td>https://10s.ec/</td>\n",
       "      <td>e-commerce|mobile commerce|social commerce</td>\n",
       "      <td>1600000.0</td>\n",
       "      <td>operating</td>\n",
       "      <td>USA</td>\n",
       "      <td>CA</td>\n",
       "      <td>2</td>\n",
       "      <td>10/31/13</td>\n",
       "      <td>5/8/14</td>\n",
       "      <td>1</td>\n",
       "      <td>189 days 00:00:00.000000000</td>\n",
       "      <td>189 days 00:00:00.000000000</td>\n",
       "      <td>1600000.0</td>\n",
       "      <td>189</td>\n",
       "      <td>189</td>\n",
       "      <td>1</td>\n",
       "      <td>2</td>\n",
       "      <td>mobile</td>\n",
       "      <td>West</td>\n",
       "    </tr>\n",
       "    <tr>\n",
       "      <th>4</th>\n",
       "      <td>10X Technologies</td>\n",
       "      <td>http://10xtechnologies.com</td>\n",
       "      <td>biotechnology</td>\n",
       "      <td>3550000.0</td>\n",
       "      <td>operating</td>\n",
       "      <td>USA</td>\n",
       "      <td>CA</td>\n",
       "      <td>2</td>\n",
       "      <td>11/7/12</td>\n",
       "      <td>1/12/15</td>\n",
       "      <td>1</td>\n",
       "      <td>796 days 00:00:00.000000000</td>\n",
       "      <td>796 days 00:00:00.000000000</td>\n",
       "      <td>1775000.0</td>\n",
       "      <td>796</td>\n",
       "      <td>796</td>\n",
       "      <td>1</td>\n",
       "      <td>1</td>\n",
       "      <td>biotech</td>\n",
       "      <td>West</td>\n",
       "    </tr>\n",
       "  </tbody>\n",
       "</table>\n",
       "</div>"
      ],
      "text/plain": [
       "        startupName                homepage_url  \\\n",
       "0          One Inc.          http://whatis1.com   \n",
       "1       10-20 Media   http://www.10-20media.com   \n",
       "2             Redox  http://www.redoxengine.com   \n",
       "3             10sec             https://10s.ec/   \n",
       "4  10X Technologies  http://10xtechnologies.com   \n",
       "\n",
       "                                       category_list  total_funding  \\\n",
       "0                                             mobile      1150050.0   \n",
       "1                                         e-commerce      2050000.0   \n",
       "2  health care|health care information technology...      4000000.0   \n",
       "3         e-commerce|mobile commerce|social commerce      1600000.0   \n",
       "4                                      biotechnology      3550000.0   \n",
       "\n",
       "      status country_code state_code  funding_rounds first_funding_at  \\\n",
       "0  operating          USA         CA               3          7/20/11   \n",
       "1  operating          USA         MD               4          6/18/09   \n",
       "2  operating          USA         WI               2         11/26/14   \n",
       "3  operating          USA         CA               2         10/31/13   \n",
       "4  operating          USA         CA               2          11/7/12   \n",
       "\n",
       "  last_funding_at  homepage_url_code    time_delayFor_first_round  \\\n",
       "0          2/5/14                  1  566 days 00:00:00.000000000   \n",
       "1        12/28/11                  1  285 days 00:00:00.000000000   \n",
       "2        10/20/15                  1  328 days 00:00:00.000000000   \n",
       "3          5/8/14                  1  189 days 00:00:00.000000000   \n",
       "4         1/12/15                  1  796 days 00:00:00.000000000   \n",
       "\n",
       "     average_time_delay_rounds  average_raised_usd  \\\n",
       "0  465 days 12:00:00.000000000            575025.0   \n",
       "1  307 days 16:00:00.000000000            512500.0   \n",
       "2  328 days 00:00:00.000000000           2000000.0   \n",
       "3  189 days 00:00:00.000000000           1600000.0   \n",
       "4  796 days 00:00:00.000000000           1775000.0   \n",
       "\n",
       "   average_time_delay_rounds_number  time_delayFor_first_round_number  \\\n",
       "0                               465                               566   \n",
       "1                               307                               285   \n",
       "2                               328                               328   \n",
       "3                               189                               189   \n",
       "4                               796                               796   \n",
       "\n",
       "   statusCode  No_Of_Investors MainCategory USA_Region  \n",
       "0           1               12       mobile       West  \n",
       "1           0                1   e-commerce      South  \n",
       "2           1                6   healthcare    Midwest  \n",
       "3           1                2       mobile       West  \n",
       "4           1                1      biotech       West  "
      ]
     },
     "execution_count": 60,
     "metadata": {},
     "output_type": "execute_result"
    }
   ],
   "source": [
    "\n",
    "data.head()"
   ]
  },
  {
   "cell_type": "code",
   "execution_count": 61,
   "metadata": {},
   "outputs": [
    {
     "data": {
      "text/plain": [
       "startupName                           0\n",
       "homepage_url                        235\n",
       "category_list                         0\n",
       "total_funding                         0\n",
       "status                                0\n",
       "country_code                          0\n",
       "state_code                            0\n",
       "funding_rounds                        0\n",
       "first_funding_at                      0\n",
       "last_funding_at                       0\n",
       "homepage_url_code                     0\n",
       "time_delayFor_first_round             0\n",
       "average_time_delay_rounds             0\n",
       "average_raised_usd                    0\n",
       "average_time_delay_rounds_number      0\n",
       "time_delayFor_first_round_number      0\n",
       "statusCode                            0\n",
       "No_Of_Investors                       0\n",
       "MainCategory                          0\n",
       "USA_Region                            0\n",
       "dtype: int64"
      ]
     },
     "execution_count": 61,
     "metadata": {},
     "output_type": "execute_result"
    }
   ],
   "source": [
    "data.isnull().sum()"
   ]
  },
  {
   "cell_type": "code",
   "execution_count": 62,
   "metadata": {},
   "outputs": [
    {
     "data": {
      "text/plain": [
       "operating    7495\n",
       "acquired     1160\n",
       "closed        521\n",
       "ipo           447\n",
       "Name: status, dtype: int64"
      ]
     },
     "execution_count": 62,
     "metadata": {},
     "output_type": "execute_result"
    }
   ],
   "source": [
    "data['status'].value_counts()\n"
   ]
  },
  {
   "cell_type": "code",
   "execution_count": 63,
   "metadata": {},
   "outputs": [],
   "source": [
    "data['status'].replace({\"acquired\":\"operating\", \"ipo\":\"closed\"},inplace=True)"
   ]
  },
  {
   "cell_type": "code",
   "execution_count": 64,
   "metadata": {},
   "outputs": [],
   "source": [
    "\n",
    "data['website_availibility']=data['homepage_url'].notnull().astype('int')"
   ]
  },
  {
   "cell_type": "code",
   "execution_count": 65,
   "metadata": {},
   "outputs": [
    {
     "data": {
      "text/html": [
       "<div>\n",
       "<style scoped>\n",
       "    .dataframe tbody tr th:only-of-type {\n",
       "        vertical-align: middle;\n",
       "    }\n",
       "\n",
       "    .dataframe tbody tr th {\n",
       "        vertical-align: top;\n",
       "    }\n",
       "\n",
       "    .dataframe thead th {\n",
       "        text-align: right;\n",
       "    }\n",
       "</style>\n",
       "<table border=\"1\" class=\"dataframe\">\n",
       "  <thead>\n",
       "    <tr style=\"text-align: right;\">\n",
       "      <th></th>\n",
       "      <th>startupName</th>\n",
       "      <th>homepage_url</th>\n",
       "      <th>category_list</th>\n",
       "      <th>total_funding</th>\n",
       "      <th>status</th>\n",
       "      <th>country_code</th>\n",
       "      <th>state_code</th>\n",
       "      <th>funding_rounds</th>\n",
       "      <th>first_funding_at</th>\n",
       "      <th>last_funding_at</th>\n",
       "      <th>...</th>\n",
       "      <th>time_delayFor_first_round</th>\n",
       "      <th>average_time_delay_rounds</th>\n",
       "      <th>average_raised_usd</th>\n",
       "      <th>average_time_delay_rounds_number</th>\n",
       "      <th>time_delayFor_first_round_number</th>\n",
       "      <th>statusCode</th>\n",
       "      <th>No_Of_Investors</th>\n",
       "      <th>MainCategory</th>\n",
       "      <th>USA_Region</th>\n",
       "      <th>website_availibility</th>\n",
       "    </tr>\n",
       "  </thead>\n",
       "  <tbody>\n",
       "    <tr>\n",
       "      <th>0</th>\n",
       "      <td>One Inc.</td>\n",
       "      <td>http://whatis1.com</td>\n",
       "      <td>mobile</td>\n",
       "      <td>1150050.0</td>\n",
       "      <td>operating</td>\n",
       "      <td>USA</td>\n",
       "      <td>CA</td>\n",
       "      <td>3</td>\n",
       "      <td>7/20/11</td>\n",
       "      <td>2/5/14</td>\n",
       "      <td>...</td>\n",
       "      <td>566 days 00:00:00.000000000</td>\n",
       "      <td>465 days 12:00:00.000000000</td>\n",
       "      <td>5.750250e+05</td>\n",
       "      <td>465</td>\n",
       "      <td>566</td>\n",
       "      <td>1</td>\n",
       "      <td>12</td>\n",
       "      <td>mobile</td>\n",
       "      <td>West</td>\n",
       "      <td>1</td>\n",
       "    </tr>\n",
       "    <tr>\n",
       "      <th>1</th>\n",
       "      <td>10-20 Media</td>\n",
       "      <td>http://www.10-20media.com</td>\n",
       "      <td>e-commerce</td>\n",
       "      <td>2050000.0</td>\n",
       "      <td>operating</td>\n",
       "      <td>USA</td>\n",
       "      <td>MD</td>\n",
       "      <td>4</td>\n",
       "      <td>6/18/09</td>\n",
       "      <td>12/28/11</td>\n",
       "      <td>...</td>\n",
       "      <td>285 days 00:00:00.000000000</td>\n",
       "      <td>307 days 16:00:00.000000000</td>\n",
       "      <td>5.125000e+05</td>\n",
       "      <td>307</td>\n",
       "      <td>285</td>\n",
       "      <td>0</td>\n",
       "      <td>1</td>\n",
       "      <td>e-commerce</td>\n",
       "      <td>South</td>\n",
       "      <td>1</td>\n",
       "    </tr>\n",
       "    <tr>\n",
       "      <th>2</th>\n",
       "      <td>Redox</td>\n",
       "      <td>http://www.redoxengine.com</td>\n",
       "      <td>health care|health care information technology...</td>\n",
       "      <td>4000000.0</td>\n",
       "      <td>operating</td>\n",
       "      <td>USA</td>\n",
       "      <td>WI</td>\n",
       "      <td>2</td>\n",
       "      <td>11/26/14</td>\n",
       "      <td>10/20/15</td>\n",
       "      <td>...</td>\n",
       "      <td>328 days 00:00:00.000000000</td>\n",
       "      <td>328 days 00:00:00.000000000</td>\n",
       "      <td>2.000000e+06</td>\n",
       "      <td>328</td>\n",
       "      <td>328</td>\n",
       "      <td>1</td>\n",
       "      <td>6</td>\n",
       "      <td>healthcare</td>\n",
       "      <td>Midwest</td>\n",
       "      <td>1</td>\n",
       "    </tr>\n",
       "    <tr>\n",
       "      <th>3</th>\n",
       "      <td>10sec</td>\n",
       "      <td>https://10s.ec/</td>\n",
       "      <td>e-commerce|mobile commerce|social commerce</td>\n",
       "      <td>1600000.0</td>\n",
       "      <td>operating</td>\n",
       "      <td>USA</td>\n",
       "      <td>CA</td>\n",
       "      <td>2</td>\n",
       "      <td>10/31/13</td>\n",
       "      <td>5/8/14</td>\n",
       "      <td>...</td>\n",
       "      <td>189 days 00:00:00.000000000</td>\n",
       "      <td>189 days 00:00:00.000000000</td>\n",
       "      <td>1.600000e+06</td>\n",
       "      <td>189</td>\n",
       "      <td>189</td>\n",
       "      <td>1</td>\n",
       "      <td>2</td>\n",
       "      <td>mobile</td>\n",
       "      <td>West</td>\n",
       "      <td>1</td>\n",
       "    </tr>\n",
       "    <tr>\n",
       "      <th>4</th>\n",
       "      <td>10X Technologies</td>\n",
       "      <td>http://10xtechnologies.com</td>\n",
       "      <td>biotechnology</td>\n",
       "      <td>3550000.0</td>\n",
       "      <td>operating</td>\n",
       "      <td>USA</td>\n",
       "      <td>CA</td>\n",
       "      <td>2</td>\n",
       "      <td>11/7/12</td>\n",
       "      <td>1/12/15</td>\n",
       "      <td>...</td>\n",
       "      <td>796 days 00:00:00.000000000</td>\n",
       "      <td>796 days 00:00:00.000000000</td>\n",
       "      <td>1.775000e+06</td>\n",
       "      <td>796</td>\n",
       "      <td>796</td>\n",
       "      <td>1</td>\n",
       "      <td>1</td>\n",
       "      <td>biotech</td>\n",
       "      <td>West</td>\n",
       "      <td>1</td>\n",
       "    </tr>\n",
       "    <tr>\n",
       "      <th>...</th>\n",
       "      <td>...</td>\n",
       "      <td>...</td>\n",
       "      <td>...</td>\n",
       "      <td>...</td>\n",
       "      <td>...</td>\n",
       "      <td>...</td>\n",
       "      <td>...</td>\n",
       "      <td>...</td>\n",
       "      <td>...</td>\n",
       "      <td>...</td>\n",
       "      <td>...</td>\n",
       "      <td>...</td>\n",
       "      <td>...</td>\n",
       "      <td>...</td>\n",
       "      <td>...</td>\n",
       "      <td>...</td>\n",
       "      <td>...</td>\n",
       "      <td>...</td>\n",
       "      <td>...</td>\n",
       "      <td>...</td>\n",
       "      <td>...</td>\n",
       "    </tr>\n",
       "    <tr>\n",
       "      <th>195</th>\n",
       "      <td>Addiction Campuses of America</td>\n",
       "      <td>http://addictioncampus.com/</td>\n",
       "      <td>health care</td>\n",
       "      <td>6800000.0</td>\n",
       "      <td>operating</td>\n",
       "      <td>USA</td>\n",
       "      <td>TN</td>\n",
       "      <td>3</td>\n",
       "      <td>5/28/14</td>\n",
       "      <td>5/15/15</td>\n",
       "      <td>...</td>\n",
       "      <td>148 days 00:00:00.000000000</td>\n",
       "      <td>176 days 00:00:00.000000000</td>\n",
       "      <td>3.400000e+06</td>\n",
       "      <td>176</td>\n",
       "      <td>148</td>\n",
       "      <td>1</td>\n",
       "      <td>5</td>\n",
       "      <td>healthcare</td>\n",
       "      <td>South</td>\n",
       "      <td>1</td>\n",
       "    </tr>\n",
       "    <tr>\n",
       "      <th>196</th>\n",
       "      <td>AddThis</td>\n",
       "      <td>http://www.addthis.com</td>\n",
       "      <td>advertising|analytics|big data|file sharing|mo...</td>\n",
       "      <td>73000000.0</td>\n",
       "      <td>operating</td>\n",
       "      <td>USA</td>\n",
       "      <td>VA</td>\n",
       "      <td>7</td>\n",
       "      <td>5/1/06</td>\n",
       "      <td>9/1/14</td>\n",
       "      <td>...</td>\n",
       "      <td>276 days 00:00:00.000000000</td>\n",
       "      <td>507 days 12:00:00.000000000</td>\n",
       "      <td>1.216667e+07</td>\n",
       "      <td>507</td>\n",
       "      <td>276</td>\n",
       "      <td>1</td>\n",
       "      <td>16</td>\n",
       "      <td>mobile</td>\n",
       "      <td>South</td>\n",
       "      <td>1</td>\n",
       "    </tr>\n",
       "    <tr>\n",
       "      <th>197</th>\n",
       "      <td>Addvocate</td>\n",
       "      <td>http://addvocate.com</td>\n",
       "      <td>enterprise software</td>\n",
       "      <td>2729000.0</td>\n",
       "      <td>operating</td>\n",
       "      <td>USA</td>\n",
       "      <td>CA</td>\n",
       "      <td>2</td>\n",
       "      <td>5/15/13</td>\n",
       "      <td>7/24/13</td>\n",
       "      <td>...</td>\n",
       "      <td>70 days 00:00:00.000000000</td>\n",
       "      <td>70 days 00:00:00.000000000</td>\n",
       "      <td>1.364500e+06</td>\n",
       "      <td>70</td>\n",
       "      <td>70</td>\n",
       "      <td>1</td>\n",
       "      <td>11</td>\n",
       "      <td>software</td>\n",
       "      <td>West</td>\n",
       "      <td>1</td>\n",
       "    </tr>\n",
       "    <tr>\n",
       "      <th>198</th>\n",
       "      <td>aDealio</td>\n",
       "      <td>http://www.adealio.com</td>\n",
       "      <td>coupons|e-commerce</td>\n",
       "      <td>1500000.0</td>\n",
       "      <td>operating</td>\n",
       "      <td>USA</td>\n",
       "      <td>TX</td>\n",
       "      <td>2</td>\n",
       "      <td>3/1/11</td>\n",
       "      <td>8/22/11</td>\n",
       "      <td>...</td>\n",
       "      <td>174 days 00:00:00.000000000</td>\n",
       "      <td>174 days 00:00:00.000000000</td>\n",
       "      <td>7.500000e+05</td>\n",
       "      <td>174</td>\n",
       "      <td>174</td>\n",
       "      <td>0</td>\n",
       "      <td>8</td>\n",
       "      <td>e-commerce</td>\n",
       "      <td>South</td>\n",
       "      <td>1</td>\n",
       "    </tr>\n",
       "    <tr>\n",
       "      <th>199</th>\n",
       "      <td>Adelphic</td>\n",
       "      <td>http://www.adelphic.com</td>\n",
       "      <td>advertising|media|mobile|optimization</td>\n",
       "      <td>23000000.0</td>\n",
       "      <td>operating</td>\n",
       "      <td>USA</td>\n",
       "      <td>MA</td>\n",
       "      <td>3</td>\n",
       "      <td>3/13/12</td>\n",
       "      <td>12/17/14</td>\n",
       "      <td>...</td>\n",
       "      <td>266 days 00:00:00.000000000</td>\n",
       "      <td>504 days 12:00:00.000000000</td>\n",
       "      <td>7.666667e+06</td>\n",
       "      <td>504</td>\n",
       "      <td>266</td>\n",
       "      <td>1</td>\n",
       "      <td>4</td>\n",
       "      <td>mobile</td>\n",
       "      <td>Northeast</td>\n",
       "      <td>1</td>\n",
       "    </tr>\n",
       "  </tbody>\n",
       "</table>\n",
       "<p>200 rows × 21 columns</p>\n",
       "</div>"
      ],
      "text/plain": [
       "                       startupName                 homepage_url  \\\n",
       "0                         One Inc.           http://whatis1.com   \n",
       "1                      10-20 Media    http://www.10-20media.com   \n",
       "2                            Redox   http://www.redoxengine.com   \n",
       "3                            10sec              https://10s.ec/   \n",
       "4                 10X Technologies   http://10xtechnologies.com   \n",
       "..                             ...                          ...   \n",
       "195  Addiction Campuses of America  http://addictioncampus.com/   \n",
       "196                        AddThis       http://www.addthis.com   \n",
       "197                      Addvocate         http://addvocate.com   \n",
       "198                        aDealio       http://www.adealio.com   \n",
       "199                       Adelphic      http://www.adelphic.com   \n",
       "\n",
       "                                         category_list  total_funding  \\\n",
       "0                                               mobile      1150050.0   \n",
       "1                                           e-commerce      2050000.0   \n",
       "2    health care|health care information technology...      4000000.0   \n",
       "3           e-commerce|mobile commerce|social commerce      1600000.0   \n",
       "4                                        biotechnology      3550000.0   \n",
       "..                                                 ...            ...   \n",
       "195                                        health care      6800000.0   \n",
       "196  advertising|analytics|big data|file sharing|mo...     73000000.0   \n",
       "197                                enterprise software      2729000.0   \n",
       "198                                 coupons|e-commerce      1500000.0   \n",
       "199              advertising|media|mobile|optimization     23000000.0   \n",
       "\n",
       "        status country_code state_code  funding_rounds first_funding_at  \\\n",
       "0    operating          USA         CA               3          7/20/11   \n",
       "1    operating          USA         MD               4          6/18/09   \n",
       "2    operating          USA         WI               2         11/26/14   \n",
       "3    operating          USA         CA               2         10/31/13   \n",
       "4    operating          USA         CA               2          11/7/12   \n",
       "..         ...          ...        ...             ...              ...   \n",
       "195  operating          USA         TN               3          5/28/14   \n",
       "196  operating          USA         VA               7           5/1/06   \n",
       "197  operating          USA         CA               2          5/15/13   \n",
       "198  operating          USA         TX               2           3/1/11   \n",
       "199  operating          USA         MA               3          3/13/12   \n",
       "\n",
       "    last_funding_at  ...    time_delayFor_first_round  \\\n",
       "0            2/5/14  ...  566 days 00:00:00.000000000   \n",
       "1          12/28/11  ...  285 days 00:00:00.000000000   \n",
       "2          10/20/15  ...  328 days 00:00:00.000000000   \n",
       "3            5/8/14  ...  189 days 00:00:00.000000000   \n",
       "4           1/12/15  ...  796 days 00:00:00.000000000   \n",
       "..              ...  ...                          ...   \n",
       "195         5/15/15  ...  148 days 00:00:00.000000000   \n",
       "196          9/1/14  ...  276 days 00:00:00.000000000   \n",
       "197         7/24/13  ...   70 days 00:00:00.000000000   \n",
       "198         8/22/11  ...  174 days 00:00:00.000000000   \n",
       "199        12/17/14  ...  266 days 00:00:00.000000000   \n",
       "\n",
       "       average_time_delay_rounds average_raised_usd  \\\n",
       "0    465 days 12:00:00.000000000       5.750250e+05   \n",
       "1    307 days 16:00:00.000000000       5.125000e+05   \n",
       "2    328 days 00:00:00.000000000       2.000000e+06   \n",
       "3    189 days 00:00:00.000000000       1.600000e+06   \n",
       "4    796 days 00:00:00.000000000       1.775000e+06   \n",
       "..                           ...                ...   \n",
       "195  176 days 00:00:00.000000000       3.400000e+06   \n",
       "196  507 days 12:00:00.000000000       1.216667e+07   \n",
       "197   70 days 00:00:00.000000000       1.364500e+06   \n",
       "198  174 days 00:00:00.000000000       7.500000e+05   \n",
       "199  504 days 12:00:00.000000000       7.666667e+06   \n",
       "\n",
       "     average_time_delay_rounds_number  time_delayFor_first_round_number  \\\n",
       "0                                 465                               566   \n",
       "1                                 307                               285   \n",
       "2                                 328                               328   \n",
       "3                                 189                               189   \n",
       "4                                 796                               796   \n",
       "..                                ...                               ...   \n",
       "195                               176                               148   \n",
       "196                               507                               276   \n",
       "197                                70                                70   \n",
       "198                               174                               174   \n",
       "199                               504                               266   \n",
       "\n",
       "     statusCode  No_Of_Investors  MainCategory USA_Region website_availibility  \n",
       "0             1               12        mobile       West                    1  \n",
       "1             0                1    e-commerce      South                    1  \n",
       "2             1                6    healthcare    Midwest                    1  \n",
       "3             1                2        mobile       West                    1  \n",
       "4             1                1       biotech       West                    1  \n",
       "..          ...              ...           ...        ...                  ...  \n",
       "195           1                5    healthcare      South                    1  \n",
       "196           1               16        mobile      South                    1  \n",
       "197           1               11      software       West                    1  \n",
       "198           0                8    e-commerce      South                    1  \n",
       "199           1                4        mobile  Northeast                    1  \n",
       "\n",
       "[200 rows x 21 columns]"
      ]
     },
     "execution_count": 65,
     "metadata": {},
     "output_type": "execute_result"
    }
   ],
   "source": [
    "data.head(200)"
   ]
  },
  {
   "cell_type": "code",
   "execution_count": 66,
   "metadata": {},
   "outputs": [
    {
     "data": {
      "text/plain": [
       "array(['operating', 'closed'], dtype=object)"
      ]
     },
     "execution_count": 66,
     "metadata": {},
     "output_type": "execute_result"
    }
   ],
   "source": [
    "data['status'].unique()"
   ]
  },
  {
   "cell_type": "code",
   "execution_count": 67,
   "metadata": {},
   "outputs": [
    {
     "data": {
      "text/plain": [
       "Index(['startupName', 'homepage_url', 'category_list', 'total_funding',\n",
       "       'status', 'country_code', 'state_code', 'funding_rounds',\n",
       "       'first_funding_at', 'last_funding_at', 'homepage_url_code',\n",
       "       'time_delayFor_first_round', 'average_time_delay_rounds',\n",
       "       'average_raised_usd', 'average_time_delay_rounds_number',\n",
       "       'time_delayFor_first_round_number', 'statusCode', 'No_Of_Investors',\n",
       "       'MainCategory', 'USA_Region', 'website_availibility'],\n",
       "      dtype='object')"
      ]
     },
     "execution_count": 67,
     "metadata": {},
     "output_type": "execute_result"
    }
   ],
   "source": [
    "data.columns"
   ]
  },
  {
   "cell_type": "code",
   "execution_count": 68,
   "metadata": {},
   "outputs": [],
   "source": [
    "data.drop(['startupName','homepage_url','category_list','homepage_url_code',\n",
    "          'statusCode','time_delayFor_first_round','average_time_delay_rounds'],\n",
    "          axis=1, inplace=True)\n",
    "#Axis=1 means columns would be selected while for Axis=0, Rows will be deleted,\n",
    "#inplace=True for permanent changes"
   ]
  },
  {
   "cell_type": "code",
   "execution_count": 69,
   "metadata": {},
   "outputs": [
    {
     "data": {
      "text/html": [
       "<div>\n",
       "<style scoped>\n",
       "    .dataframe tbody tr th:only-of-type {\n",
       "        vertical-align: middle;\n",
       "    }\n",
       "\n",
       "    .dataframe tbody tr th {\n",
       "        vertical-align: top;\n",
       "    }\n",
       "\n",
       "    .dataframe thead th {\n",
       "        text-align: right;\n",
       "    }\n",
       "</style>\n",
       "<table border=\"1\" class=\"dataframe\">\n",
       "  <thead>\n",
       "    <tr style=\"text-align: right;\">\n",
       "      <th></th>\n",
       "      <th>total_funding</th>\n",
       "      <th>status</th>\n",
       "      <th>country_code</th>\n",
       "      <th>state_code</th>\n",
       "      <th>funding_rounds</th>\n",
       "      <th>first_funding_at</th>\n",
       "      <th>last_funding_at</th>\n",
       "      <th>average_raised_usd</th>\n",
       "      <th>average_time_delay_rounds_number</th>\n",
       "      <th>time_delayFor_first_round_number</th>\n",
       "      <th>No_Of_Investors</th>\n",
       "      <th>MainCategory</th>\n",
       "      <th>USA_Region</th>\n",
       "      <th>website_availibility</th>\n",
       "    </tr>\n",
       "  </thead>\n",
       "  <tbody>\n",
       "    <tr>\n",
       "      <th>0</th>\n",
       "      <td>1150050.0</td>\n",
       "      <td>operating</td>\n",
       "      <td>USA</td>\n",
       "      <td>CA</td>\n",
       "      <td>3</td>\n",
       "      <td>7/20/11</td>\n",
       "      <td>2/5/14</td>\n",
       "      <td>575025.0</td>\n",
       "      <td>465</td>\n",
       "      <td>566</td>\n",
       "      <td>12</td>\n",
       "      <td>mobile</td>\n",
       "      <td>West</td>\n",
       "      <td>1</td>\n",
       "    </tr>\n",
       "    <tr>\n",
       "      <th>1</th>\n",
       "      <td>2050000.0</td>\n",
       "      <td>operating</td>\n",
       "      <td>USA</td>\n",
       "      <td>MD</td>\n",
       "      <td>4</td>\n",
       "      <td>6/18/09</td>\n",
       "      <td>12/28/11</td>\n",
       "      <td>512500.0</td>\n",
       "      <td>307</td>\n",
       "      <td>285</td>\n",
       "      <td>1</td>\n",
       "      <td>e-commerce</td>\n",
       "      <td>South</td>\n",
       "      <td>1</td>\n",
       "    </tr>\n",
       "    <tr>\n",
       "      <th>2</th>\n",
       "      <td>4000000.0</td>\n",
       "      <td>operating</td>\n",
       "      <td>USA</td>\n",
       "      <td>WI</td>\n",
       "      <td>2</td>\n",
       "      <td>11/26/14</td>\n",
       "      <td>10/20/15</td>\n",
       "      <td>2000000.0</td>\n",
       "      <td>328</td>\n",
       "      <td>328</td>\n",
       "      <td>6</td>\n",
       "      <td>healthcare</td>\n",
       "      <td>Midwest</td>\n",
       "      <td>1</td>\n",
       "    </tr>\n",
       "    <tr>\n",
       "      <th>3</th>\n",
       "      <td>1600000.0</td>\n",
       "      <td>operating</td>\n",
       "      <td>USA</td>\n",
       "      <td>CA</td>\n",
       "      <td>2</td>\n",
       "      <td>10/31/13</td>\n",
       "      <td>5/8/14</td>\n",
       "      <td>1600000.0</td>\n",
       "      <td>189</td>\n",
       "      <td>189</td>\n",
       "      <td>2</td>\n",
       "      <td>mobile</td>\n",
       "      <td>West</td>\n",
       "      <td>1</td>\n",
       "    </tr>\n",
       "    <tr>\n",
       "      <th>4</th>\n",
       "      <td>3550000.0</td>\n",
       "      <td>operating</td>\n",
       "      <td>USA</td>\n",
       "      <td>CA</td>\n",
       "      <td>2</td>\n",
       "      <td>11/7/12</td>\n",
       "      <td>1/12/15</td>\n",
       "      <td>1775000.0</td>\n",
       "      <td>796</td>\n",
       "      <td>796</td>\n",
       "      <td>1</td>\n",
       "      <td>biotech</td>\n",
       "      <td>West</td>\n",
       "      <td>1</td>\n",
       "    </tr>\n",
       "  </tbody>\n",
       "</table>\n",
       "</div>"
      ],
      "text/plain": [
       "   total_funding     status country_code state_code  funding_rounds  \\\n",
       "0      1150050.0  operating          USA         CA               3   \n",
       "1      2050000.0  operating          USA         MD               4   \n",
       "2      4000000.0  operating          USA         WI               2   \n",
       "3      1600000.0  operating          USA         CA               2   \n",
       "4      3550000.0  operating          USA         CA               2   \n",
       "\n",
       "  first_funding_at last_funding_at  average_raised_usd  \\\n",
       "0          7/20/11          2/5/14            575025.0   \n",
       "1          6/18/09        12/28/11            512500.0   \n",
       "2         11/26/14        10/20/15           2000000.0   \n",
       "3         10/31/13          5/8/14           1600000.0   \n",
       "4          11/7/12         1/12/15           1775000.0   \n",
       "\n",
       "   average_time_delay_rounds_number  time_delayFor_first_round_number  \\\n",
       "0                               465                               566   \n",
       "1                               307                               285   \n",
       "2                               328                               328   \n",
       "3                               189                               189   \n",
       "4                               796                               796   \n",
       "\n",
       "   No_Of_Investors MainCategory USA_Region  website_availibility  \n",
       "0               12       mobile       West                     1  \n",
       "1                1   e-commerce      South                     1  \n",
       "2                6   healthcare    Midwest                     1  \n",
       "3                2       mobile       West                     1  \n",
       "4                1      biotech       West                     1  "
      ]
     },
     "execution_count": 69,
     "metadata": {},
     "output_type": "execute_result"
    }
   ],
   "source": [
    "data.head()"
   ]
  },
  {
   "cell_type": "code",
   "execution_count": 70,
   "metadata": {},
   "outputs": [],
   "source": [
    "data.drop(['first_funding_at', 'last_funding_at'],\n",
    "          axis=1, inplace=True)"
   ]
  },
  {
   "cell_type": "code",
   "execution_count": 71,
   "metadata": {},
   "outputs": [],
   "source": [
    "data.drop(['country_code'],axis=1,inplace=True)"
   ]
  },
  {
   "cell_type": "code",
   "execution_count": 72,
   "metadata": {},
   "outputs": [
    {
     "data": {
      "text/html": [
       "<div>\n",
       "<style scoped>\n",
       "    .dataframe tbody tr th:only-of-type {\n",
       "        vertical-align: middle;\n",
       "    }\n",
       "\n",
       "    .dataframe tbody tr th {\n",
       "        vertical-align: top;\n",
       "    }\n",
       "\n",
       "    .dataframe thead th {\n",
       "        text-align: right;\n",
       "    }\n",
       "</style>\n",
       "<table border=\"1\" class=\"dataframe\">\n",
       "  <thead>\n",
       "    <tr style=\"text-align: right;\">\n",
       "      <th></th>\n",
       "      <th>total_funding</th>\n",
       "      <th>status</th>\n",
       "      <th>state_code</th>\n",
       "      <th>funding_rounds</th>\n",
       "      <th>average_raised_usd</th>\n",
       "      <th>average_time_delay_rounds_number</th>\n",
       "      <th>time_delayFor_first_round_number</th>\n",
       "      <th>No_Of_Investors</th>\n",
       "      <th>MainCategory</th>\n",
       "      <th>USA_Region</th>\n",
       "      <th>website_availibility</th>\n",
       "    </tr>\n",
       "  </thead>\n",
       "  <tbody>\n",
       "    <tr>\n",
       "      <th>0</th>\n",
       "      <td>1150050.0</td>\n",
       "      <td>operating</td>\n",
       "      <td>CA</td>\n",
       "      <td>3</td>\n",
       "      <td>575025.0</td>\n",
       "      <td>465</td>\n",
       "      <td>566</td>\n",
       "      <td>12</td>\n",
       "      <td>mobile</td>\n",
       "      <td>West</td>\n",
       "      <td>1</td>\n",
       "    </tr>\n",
       "    <tr>\n",
       "      <th>1</th>\n",
       "      <td>2050000.0</td>\n",
       "      <td>operating</td>\n",
       "      <td>MD</td>\n",
       "      <td>4</td>\n",
       "      <td>512500.0</td>\n",
       "      <td>307</td>\n",
       "      <td>285</td>\n",
       "      <td>1</td>\n",
       "      <td>e-commerce</td>\n",
       "      <td>South</td>\n",
       "      <td>1</td>\n",
       "    </tr>\n",
       "    <tr>\n",
       "      <th>2</th>\n",
       "      <td>4000000.0</td>\n",
       "      <td>operating</td>\n",
       "      <td>WI</td>\n",
       "      <td>2</td>\n",
       "      <td>2000000.0</td>\n",
       "      <td>328</td>\n",
       "      <td>328</td>\n",
       "      <td>6</td>\n",
       "      <td>healthcare</td>\n",
       "      <td>Midwest</td>\n",
       "      <td>1</td>\n",
       "    </tr>\n",
       "    <tr>\n",
       "      <th>3</th>\n",
       "      <td>1600000.0</td>\n",
       "      <td>operating</td>\n",
       "      <td>CA</td>\n",
       "      <td>2</td>\n",
       "      <td>1600000.0</td>\n",
       "      <td>189</td>\n",
       "      <td>189</td>\n",
       "      <td>2</td>\n",
       "      <td>mobile</td>\n",
       "      <td>West</td>\n",
       "      <td>1</td>\n",
       "    </tr>\n",
       "    <tr>\n",
       "      <th>4</th>\n",
       "      <td>3550000.0</td>\n",
       "      <td>operating</td>\n",
       "      <td>CA</td>\n",
       "      <td>2</td>\n",
       "      <td>1775000.0</td>\n",
       "      <td>796</td>\n",
       "      <td>796</td>\n",
       "      <td>1</td>\n",
       "      <td>biotech</td>\n",
       "      <td>West</td>\n",
       "      <td>1</td>\n",
       "    </tr>\n",
       "  </tbody>\n",
       "</table>\n",
       "</div>"
      ],
      "text/plain": [
       "   total_funding     status state_code  funding_rounds  average_raised_usd  \\\n",
       "0      1150050.0  operating         CA               3            575025.0   \n",
       "1      2050000.0  operating         MD               4            512500.0   \n",
       "2      4000000.0  operating         WI               2           2000000.0   \n",
       "3      1600000.0  operating         CA               2           1600000.0   \n",
       "4      3550000.0  operating         CA               2           1775000.0   \n",
       "\n",
       "   average_time_delay_rounds_number  time_delayFor_first_round_number  \\\n",
       "0                               465                               566   \n",
       "1                               307                               285   \n",
       "2                               328                               328   \n",
       "3                               189                               189   \n",
       "4                               796                               796   \n",
       "\n",
       "   No_Of_Investors MainCategory USA_Region  website_availibility  \n",
       "0               12       mobile       West                     1  \n",
       "1                1   e-commerce      South                     1  \n",
       "2                6   healthcare    Midwest                     1  \n",
       "3                2       mobile       West                     1  \n",
       "4                1      biotech       West                     1  "
      ]
     },
     "execution_count": 72,
     "metadata": {},
     "output_type": "execute_result"
    }
   ],
   "source": [
    "data.head()"
   ]
  },
  {
   "cell_type": "code",
   "execution_count": 73,
   "metadata": {},
   "outputs": [],
   "source": [
    "labelencoder=LabelEncoder()"
   ]
  },
  {
   "cell_type": "code",
   "execution_count": 74,
   "metadata": {},
   "outputs": [],
   "source": [
    "data['status']=labelencoder.fit_transform(data['status'])"
   ]
  },
  {
   "cell_type": "code",
   "execution_count": 75,
   "metadata": {},
   "outputs": [
    {
     "data": {
      "text/html": [
       "<div>\n",
       "<style scoped>\n",
       "    .dataframe tbody tr th:only-of-type {\n",
       "        vertical-align: middle;\n",
       "    }\n",
       "\n",
       "    .dataframe tbody tr th {\n",
       "        vertical-align: top;\n",
       "    }\n",
       "\n",
       "    .dataframe thead th {\n",
       "        text-align: right;\n",
       "    }\n",
       "</style>\n",
       "<table border=\"1\" class=\"dataframe\">\n",
       "  <thead>\n",
       "    <tr style=\"text-align: right;\">\n",
       "      <th></th>\n",
       "      <th>total_funding</th>\n",
       "      <th>status</th>\n",
       "      <th>state_code</th>\n",
       "      <th>funding_rounds</th>\n",
       "      <th>average_raised_usd</th>\n",
       "      <th>average_time_delay_rounds_number</th>\n",
       "      <th>time_delayFor_first_round_number</th>\n",
       "      <th>No_Of_Investors</th>\n",
       "      <th>MainCategory</th>\n",
       "      <th>USA_Region</th>\n",
       "      <th>website_availibility</th>\n",
       "    </tr>\n",
       "  </thead>\n",
       "  <tbody>\n",
       "    <tr>\n",
       "      <th>0</th>\n",
       "      <td>1150050.0</td>\n",
       "      <td>1</td>\n",
       "      <td>CA</td>\n",
       "      <td>3</td>\n",
       "      <td>575025.0</td>\n",
       "      <td>465</td>\n",
       "      <td>566</td>\n",
       "      <td>12</td>\n",
       "      <td>mobile</td>\n",
       "      <td>West</td>\n",
       "      <td>1</td>\n",
       "    </tr>\n",
       "    <tr>\n",
       "      <th>1</th>\n",
       "      <td>2050000.0</td>\n",
       "      <td>1</td>\n",
       "      <td>MD</td>\n",
       "      <td>4</td>\n",
       "      <td>512500.0</td>\n",
       "      <td>307</td>\n",
       "      <td>285</td>\n",
       "      <td>1</td>\n",
       "      <td>e-commerce</td>\n",
       "      <td>South</td>\n",
       "      <td>1</td>\n",
       "    </tr>\n",
       "    <tr>\n",
       "      <th>2</th>\n",
       "      <td>4000000.0</td>\n",
       "      <td>1</td>\n",
       "      <td>WI</td>\n",
       "      <td>2</td>\n",
       "      <td>2000000.0</td>\n",
       "      <td>328</td>\n",
       "      <td>328</td>\n",
       "      <td>6</td>\n",
       "      <td>healthcare</td>\n",
       "      <td>Midwest</td>\n",
       "      <td>1</td>\n",
       "    </tr>\n",
       "    <tr>\n",
       "      <th>3</th>\n",
       "      <td>1600000.0</td>\n",
       "      <td>1</td>\n",
       "      <td>CA</td>\n",
       "      <td>2</td>\n",
       "      <td>1600000.0</td>\n",
       "      <td>189</td>\n",
       "      <td>189</td>\n",
       "      <td>2</td>\n",
       "      <td>mobile</td>\n",
       "      <td>West</td>\n",
       "      <td>1</td>\n",
       "    </tr>\n",
       "    <tr>\n",
       "      <th>4</th>\n",
       "      <td>3550000.0</td>\n",
       "      <td>1</td>\n",
       "      <td>CA</td>\n",
       "      <td>2</td>\n",
       "      <td>1775000.0</td>\n",
       "      <td>796</td>\n",
       "      <td>796</td>\n",
       "      <td>1</td>\n",
       "      <td>biotech</td>\n",
       "      <td>West</td>\n",
       "      <td>1</td>\n",
       "    </tr>\n",
       "  </tbody>\n",
       "</table>\n",
       "</div>"
      ],
      "text/plain": [
       "   total_funding  status state_code  funding_rounds  average_raised_usd  \\\n",
       "0      1150050.0       1         CA               3            575025.0   \n",
       "1      2050000.0       1         MD               4            512500.0   \n",
       "2      4000000.0       1         WI               2           2000000.0   \n",
       "3      1600000.0       1         CA               2           1600000.0   \n",
       "4      3550000.0       1         CA               2           1775000.0   \n",
       "\n",
       "   average_time_delay_rounds_number  time_delayFor_first_round_number  \\\n",
       "0                               465                               566   \n",
       "1                               307                               285   \n",
       "2                               328                               328   \n",
       "3                               189                               189   \n",
       "4                               796                               796   \n",
       "\n",
       "   No_Of_Investors MainCategory USA_Region  website_availibility  \n",
       "0               12       mobile       West                     1  \n",
       "1                1   e-commerce      South                     1  \n",
       "2                6   healthcare    Midwest                     1  \n",
       "3                2       mobile       West                     1  \n",
       "4                1      biotech       West                     1  "
      ]
     },
     "execution_count": 75,
     "metadata": {},
     "output_type": "execute_result"
    }
   ],
   "source": [
    "data.head()"
   ]
  },
  {
   "cell_type": "code",
   "execution_count": 76,
   "metadata": {},
   "outputs": [
    {
     "data": {
      "text/plain": [
       "1    8655\n",
       "0     968\n",
       "Name: status, dtype: int64"
      ]
     },
     "execution_count": 76,
     "metadata": {},
     "output_type": "execute_result"
    }
   ],
   "source": [
    "data['status'].value_counts()"
   ]
  },
  {
   "cell_type": "code",
   "execution_count": 77,
   "metadata": {},
   "outputs": [
    {
     "data": {
      "text/plain": [
       "software         3050\n",
       "mobile           1514\n",
       "biotech          1454\n",
       "healthcare       1282\n",
       "e-commerce        657\n",
       "games             483\n",
       "technology        447\n",
       "pharma            302\n",
       "manufacturing     229\n",
       "medicalGear       205\n",
       "Name: MainCategory, dtype: int64"
      ]
     },
     "execution_count": 77,
     "metadata": {},
     "output_type": "execute_result"
    }
   ],
   "source": [
    "data['MainCategory'].value_counts()"
   ]
  },
  {
   "cell_type": "code",
   "execution_count": 78,
   "metadata": {},
   "outputs": [
    {
     "data": {
      "text/plain": [
       "array(['CA', 'MD', 'WI', 'RI', 'MA', 'NY', 'DC', 'IN', 'OH', 'IL', 'WA',\n",
       "       'GA', 'MI', 'FL', 'MN', 'SC', 'CT', 'KY', 'VA', 'PA', 'NC', 'TX',\n",
       "       'CO', 'KS', 'TN', 'AZ', 'OK', 'NJ', 'OR', 'MO', 'AR', 'UT', 'NH',\n",
       "       'LA', 'NM', 'SD', 'MT', 'NE', 'NV', 'blank', 'DE', 'ID', 'IA',\n",
       "       'VT', 'MS', 'AK', 'AL', 'HI', 'ND', 'ME', 'WY', 'WV'], dtype=object)"
      ]
     },
     "execution_count": 78,
     "metadata": {},
     "output_type": "execute_result"
    }
   ],
   "source": [
    "data['state_code'].unique()"
   ]
  },
  {
   "cell_type": "code",
   "execution_count": 79,
   "metadata": {},
   "outputs": [],
   "source": [
    "data['state_code']=labelencoder.fit_transform(data['state_code'])"
   ]
  },
  {
   "cell_type": "code",
   "execution_count": 80,
   "metadata": {},
   "outputs": [
    {
     "data": {
      "text/html": [
       "<div>\n",
       "<style scoped>\n",
       "    .dataframe tbody tr th:only-of-type {\n",
       "        vertical-align: middle;\n",
       "    }\n",
       "\n",
       "    .dataframe tbody tr th {\n",
       "        vertical-align: top;\n",
       "    }\n",
       "\n",
       "    .dataframe thead th {\n",
       "        text-align: right;\n",
       "    }\n",
       "</style>\n",
       "<table border=\"1\" class=\"dataframe\">\n",
       "  <thead>\n",
       "    <tr style=\"text-align: right;\">\n",
       "      <th></th>\n",
       "      <th>total_funding</th>\n",
       "      <th>status</th>\n",
       "      <th>state_code</th>\n",
       "      <th>funding_rounds</th>\n",
       "      <th>average_raised_usd</th>\n",
       "      <th>average_time_delay_rounds_number</th>\n",
       "      <th>time_delayFor_first_round_number</th>\n",
       "      <th>No_Of_Investors</th>\n",
       "      <th>MainCategory</th>\n",
       "      <th>USA_Region</th>\n",
       "      <th>website_availibility</th>\n",
       "    </tr>\n",
       "  </thead>\n",
       "  <tbody>\n",
       "    <tr>\n",
       "      <th>0</th>\n",
       "      <td>1150050.0</td>\n",
       "      <td>1</td>\n",
       "      <td>4</td>\n",
       "      <td>3</td>\n",
       "      <td>575025.0</td>\n",
       "      <td>465</td>\n",
       "      <td>566</td>\n",
       "      <td>12</td>\n",
       "      <td>mobile</td>\n",
       "      <td>West</td>\n",
       "      <td>1</td>\n",
       "    </tr>\n",
       "    <tr>\n",
       "      <th>1</th>\n",
       "      <td>2050000.0</td>\n",
       "      <td>1</td>\n",
       "      <td>20</td>\n",
       "      <td>4</td>\n",
       "      <td>512500.0</td>\n",
       "      <td>307</td>\n",
       "      <td>285</td>\n",
       "      <td>1</td>\n",
       "      <td>e-commerce</td>\n",
       "      <td>South</td>\n",
       "      <td>1</td>\n",
       "    </tr>\n",
       "    <tr>\n",
       "      <th>2</th>\n",
       "      <td>4000000.0</td>\n",
       "      <td>1</td>\n",
       "      <td>48</td>\n",
       "      <td>2</td>\n",
       "      <td>2000000.0</td>\n",
       "      <td>328</td>\n",
       "      <td>328</td>\n",
       "      <td>6</td>\n",
       "      <td>healthcare</td>\n",
       "      <td>Midwest</td>\n",
       "      <td>1</td>\n",
       "    </tr>\n",
       "    <tr>\n",
       "      <th>3</th>\n",
       "      <td>1600000.0</td>\n",
       "      <td>1</td>\n",
       "      <td>4</td>\n",
       "      <td>2</td>\n",
       "      <td>1600000.0</td>\n",
       "      <td>189</td>\n",
       "      <td>189</td>\n",
       "      <td>2</td>\n",
       "      <td>mobile</td>\n",
       "      <td>West</td>\n",
       "      <td>1</td>\n",
       "    </tr>\n",
       "    <tr>\n",
       "      <th>4</th>\n",
       "      <td>3550000.0</td>\n",
       "      <td>1</td>\n",
       "      <td>4</td>\n",
       "      <td>2</td>\n",
       "      <td>1775000.0</td>\n",
       "      <td>796</td>\n",
       "      <td>796</td>\n",
       "      <td>1</td>\n",
       "      <td>biotech</td>\n",
       "      <td>West</td>\n",
       "      <td>1</td>\n",
       "    </tr>\n",
       "  </tbody>\n",
       "</table>\n",
       "</div>"
      ],
      "text/plain": [
       "   total_funding  status  state_code  funding_rounds  average_raised_usd  \\\n",
       "0      1150050.0       1           4               3            575025.0   \n",
       "1      2050000.0       1          20               4            512500.0   \n",
       "2      4000000.0       1          48               2           2000000.0   \n",
       "3      1600000.0       1           4               2           1600000.0   \n",
       "4      3550000.0       1           4               2           1775000.0   \n",
       "\n",
       "   average_time_delay_rounds_number  time_delayFor_first_round_number  \\\n",
       "0                               465                               566   \n",
       "1                               307                               285   \n",
       "2                               328                               328   \n",
       "3                               189                               189   \n",
       "4                               796                               796   \n",
       "\n",
       "   No_Of_Investors MainCategory USA_Region  website_availibility  \n",
       "0               12       mobile       West                     1  \n",
       "1                1   e-commerce      South                     1  \n",
       "2                6   healthcare    Midwest                     1  \n",
       "3                2       mobile       West                     1  \n",
       "4                1      biotech       West                     1  "
      ]
     },
     "execution_count": 80,
     "metadata": {},
     "output_type": "execute_result"
    }
   ],
   "source": [
    "data.head()"
   ]
  },
  {
   "cell_type": "code",
   "execution_count": 81,
   "metadata": {},
   "outputs": [],
   "source": [
    "onehot=OneHotEncoder(handle_unknown='ignore')"
   ]
  },
  {
   "cell_type": "code",
   "execution_count": 82,
   "metadata": {},
   "outputs": [],
   "source": [
    "data=pd.get_dummies(data,columns=['MainCategory','USA_Region'])"
   ]
  },
  {
   "cell_type": "code",
   "execution_count": 83,
   "metadata": {},
   "outputs": [
    {
     "data": {
      "text/html": [
       "<div>\n",
       "<style scoped>\n",
       "    .dataframe tbody tr th:only-of-type {\n",
       "        vertical-align: middle;\n",
       "    }\n",
       "\n",
       "    .dataframe tbody tr th {\n",
       "        vertical-align: top;\n",
       "    }\n",
       "\n",
       "    .dataframe thead th {\n",
       "        text-align: right;\n",
       "    }\n",
       "</style>\n",
       "<table border=\"1\" class=\"dataframe\">\n",
       "  <thead>\n",
       "    <tr style=\"text-align: right;\">\n",
       "      <th></th>\n",
       "      <th>total_funding</th>\n",
       "      <th>status</th>\n",
       "      <th>state_code</th>\n",
       "      <th>funding_rounds</th>\n",
       "      <th>average_raised_usd</th>\n",
       "      <th>average_time_delay_rounds_number</th>\n",
       "      <th>time_delayFor_first_round_number</th>\n",
       "      <th>No_Of_Investors</th>\n",
       "      <th>website_availibility</th>\n",
       "      <th>MainCategory_biotech</th>\n",
       "      <th>...</th>\n",
       "      <th>MainCategory_manufacturing</th>\n",
       "      <th>MainCategory_medicalGear</th>\n",
       "      <th>MainCategory_mobile</th>\n",
       "      <th>MainCategory_pharma</th>\n",
       "      <th>MainCategory_software</th>\n",
       "      <th>MainCategory_technology</th>\n",
       "      <th>USA_Region_Midwest</th>\n",
       "      <th>USA_Region_Northeast</th>\n",
       "      <th>USA_Region_South</th>\n",
       "      <th>USA_Region_West</th>\n",
       "    </tr>\n",
       "  </thead>\n",
       "  <tbody>\n",
       "    <tr>\n",
       "      <th>0</th>\n",
       "      <td>1150050.0</td>\n",
       "      <td>1</td>\n",
       "      <td>4</td>\n",
       "      <td>3</td>\n",
       "      <td>575025.0</td>\n",
       "      <td>465</td>\n",
       "      <td>566</td>\n",
       "      <td>12</td>\n",
       "      <td>1</td>\n",
       "      <td>0</td>\n",
       "      <td>...</td>\n",
       "      <td>0</td>\n",
       "      <td>0</td>\n",
       "      <td>1</td>\n",
       "      <td>0</td>\n",
       "      <td>0</td>\n",
       "      <td>0</td>\n",
       "      <td>0</td>\n",
       "      <td>0</td>\n",
       "      <td>0</td>\n",
       "      <td>1</td>\n",
       "    </tr>\n",
       "    <tr>\n",
       "      <th>1</th>\n",
       "      <td>2050000.0</td>\n",
       "      <td>1</td>\n",
       "      <td>20</td>\n",
       "      <td>4</td>\n",
       "      <td>512500.0</td>\n",
       "      <td>307</td>\n",
       "      <td>285</td>\n",
       "      <td>1</td>\n",
       "      <td>1</td>\n",
       "      <td>0</td>\n",
       "      <td>...</td>\n",
       "      <td>0</td>\n",
       "      <td>0</td>\n",
       "      <td>0</td>\n",
       "      <td>0</td>\n",
       "      <td>0</td>\n",
       "      <td>0</td>\n",
       "      <td>0</td>\n",
       "      <td>0</td>\n",
       "      <td>1</td>\n",
       "      <td>0</td>\n",
       "    </tr>\n",
       "    <tr>\n",
       "      <th>2</th>\n",
       "      <td>4000000.0</td>\n",
       "      <td>1</td>\n",
       "      <td>48</td>\n",
       "      <td>2</td>\n",
       "      <td>2000000.0</td>\n",
       "      <td>328</td>\n",
       "      <td>328</td>\n",
       "      <td>6</td>\n",
       "      <td>1</td>\n",
       "      <td>0</td>\n",
       "      <td>...</td>\n",
       "      <td>0</td>\n",
       "      <td>0</td>\n",
       "      <td>0</td>\n",
       "      <td>0</td>\n",
       "      <td>0</td>\n",
       "      <td>0</td>\n",
       "      <td>1</td>\n",
       "      <td>0</td>\n",
       "      <td>0</td>\n",
       "      <td>0</td>\n",
       "    </tr>\n",
       "    <tr>\n",
       "      <th>3</th>\n",
       "      <td>1600000.0</td>\n",
       "      <td>1</td>\n",
       "      <td>4</td>\n",
       "      <td>2</td>\n",
       "      <td>1600000.0</td>\n",
       "      <td>189</td>\n",
       "      <td>189</td>\n",
       "      <td>2</td>\n",
       "      <td>1</td>\n",
       "      <td>0</td>\n",
       "      <td>...</td>\n",
       "      <td>0</td>\n",
       "      <td>0</td>\n",
       "      <td>1</td>\n",
       "      <td>0</td>\n",
       "      <td>0</td>\n",
       "      <td>0</td>\n",
       "      <td>0</td>\n",
       "      <td>0</td>\n",
       "      <td>0</td>\n",
       "      <td>1</td>\n",
       "    </tr>\n",
       "    <tr>\n",
       "      <th>4</th>\n",
       "      <td>3550000.0</td>\n",
       "      <td>1</td>\n",
       "      <td>4</td>\n",
       "      <td>2</td>\n",
       "      <td>1775000.0</td>\n",
       "      <td>796</td>\n",
       "      <td>796</td>\n",
       "      <td>1</td>\n",
       "      <td>1</td>\n",
       "      <td>1</td>\n",
       "      <td>...</td>\n",
       "      <td>0</td>\n",
       "      <td>0</td>\n",
       "      <td>0</td>\n",
       "      <td>0</td>\n",
       "      <td>0</td>\n",
       "      <td>0</td>\n",
       "      <td>0</td>\n",
       "      <td>0</td>\n",
       "      <td>0</td>\n",
       "      <td>1</td>\n",
       "    </tr>\n",
       "  </tbody>\n",
       "</table>\n",
       "<p>5 rows × 23 columns</p>\n",
       "</div>"
      ],
      "text/plain": [
       "   total_funding  status  state_code  funding_rounds  average_raised_usd  \\\n",
       "0      1150050.0       1           4               3            575025.0   \n",
       "1      2050000.0       1          20               4            512500.0   \n",
       "2      4000000.0       1          48               2           2000000.0   \n",
       "3      1600000.0       1           4               2           1600000.0   \n",
       "4      3550000.0       1           4               2           1775000.0   \n",
       "\n",
       "   average_time_delay_rounds_number  time_delayFor_first_round_number  \\\n",
       "0                               465                               566   \n",
       "1                               307                               285   \n",
       "2                               328                               328   \n",
       "3                               189                               189   \n",
       "4                               796                               796   \n",
       "\n",
       "   No_Of_Investors  website_availibility  MainCategory_biotech  ...  \\\n",
       "0               12                     1                     0  ...   \n",
       "1                1                     1                     0  ...   \n",
       "2                6                     1                     0  ...   \n",
       "3                2                     1                     0  ...   \n",
       "4                1                     1                     1  ...   \n",
       "\n",
       "   MainCategory_manufacturing  MainCategory_medicalGear  MainCategory_mobile  \\\n",
       "0                           0                         0                    1   \n",
       "1                           0                         0                    0   \n",
       "2                           0                         0                    0   \n",
       "3                           0                         0                    1   \n",
       "4                           0                         0                    0   \n",
       "\n",
       "   MainCategory_pharma  MainCategory_software  MainCategory_technology  \\\n",
       "0                    0                      0                        0   \n",
       "1                    0                      0                        0   \n",
       "2                    0                      0                        0   \n",
       "3                    0                      0                        0   \n",
       "4                    0                      0                        0   \n",
       "\n",
       "   USA_Region_Midwest  USA_Region_Northeast  USA_Region_South  USA_Region_West  \n",
       "0                   0                     0                 0                1  \n",
       "1                   0                     0                 1                0  \n",
       "2                   1                     0                 0                0  \n",
       "3                   0                     0                 0                1  \n",
       "4                   0                     0                 0                1  \n",
       "\n",
       "[5 rows x 23 columns]"
      ]
     },
     "execution_count": 83,
     "metadata": {},
     "output_type": "execute_result"
    }
   ],
   "source": [
    "data.head()"
   ]
  },
  {
   "cell_type": "code",
   "execution_count": 84,
   "metadata": {},
   "outputs": [
    {
     "data": {
      "text/plain": [
       "1    8655\n",
       "0     968\n",
       "Name: status, dtype: int64"
      ]
     },
     "execution_count": 84,
     "metadata": {},
     "output_type": "execute_result"
    }
   ],
   "source": [
    "data['status'].value_counts()"
   ]
  },
  {
   "cell_type": "code",
   "execution_count": 85,
   "metadata": {},
   "outputs": [],
   "source": [
    "X=data.iloc[:,np.r_[0,2:23]]"
   ]
  },
  {
   "cell_type": "code",
   "execution_count": 86,
   "metadata": {},
   "outputs": [],
   "source": [
    "Y=data.iloc[:,1]"
   ]
  },
  {
   "cell_type": "code",
   "execution_count": 87,
   "metadata": {},
   "outputs": [],
   "source": [
    "x_train, x_test_val,y_train, y_test=train_test_split(X,Y,test_size=0.25,random_state=1)\n",
    "#random data is normalized data and mean is always 0\n",
    "#At this stage data is randomly split/sampled into training and testing data"
   ]
  },
  {
   "cell_type": "code",
   "execution_count": 88,
   "metadata": {},
   "outputs": [
    {
     "data": {
      "text/plain": [
       "(7217, 22)"
      ]
     },
     "execution_count": 88,
     "metadata": {},
     "output_type": "execute_result"
    }
   ],
   "source": [
    "x_train.shape"
   ]
  },
  {
   "cell_type": "code",
   "execution_count": 89,
   "metadata": {},
   "outputs": [
    {
     "data": {
      "text/plain": [
       "(2406, 22)"
      ]
     },
     "execution_count": 89,
     "metadata": {},
     "output_type": "execute_result"
    }
   ],
   "source": [
    "x_test_val.shape"
   ]
  },
  {
   "cell_type": "code",
   "execution_count": 90,
   "metadata": {},
   "outputs": [
    {
     "data": {
      "text/plain": [
       "(7217,)"
      ]
     },
     "execution_count": 90,
     "metadata": {},
     "output_type": "execute_result"
    }
   ],
   "source": [
    "y_train.shape"
   ]
  },
  {
   "cell_type": "code",
   "execution_count": 91,
   "metadata": {},
   "outputs": [
    {
     "data": {
      "text/plain": [
       "7232    1\n",
       "3568    1\n",
       "2284    0\n",
       "3774    1\n",
       "2463    1\n",
       "       ..\n",
       "2895    0\n",
       "7813    1\n",
       "905     1\n",
       "5192    1\n",
       "235     0\n",
       "Name: status, Length: 7217, dtype: int32"
      ]
     },
     "execution_count": 91,
     "metadata": {},
     "output_type": "execute_result"
    }
   ],
   "source": [
    "y_train"
   ]
  },
  {
   "cell_type": "code",
   "execution_count": 92,
   "metadata": {},
   "outputs": [
    {
     "data": {
      "text/plain": [
       "(2406,)"
      ]
     },
     "execution_count": 92,
     "metadata": {},
     "output_type": "execute_result"
    }
   ],
   "source": [
    "y_test.shape"
   ]
  },
  {
   "cell_type": "code",
   "execution_count": 93,
   "metadata": {},
   "outputs": [
    {
     "data": {
      "text/html": [
       "<div>\n",
       "<style scoped>\n",
       "    .dataframe tbody tr th:only-of-type {\n",
       "        vertical-align: middle;\n",
       "    }\n",
       "\n",
       "    .dataframe tbody tr th {\n",
       "        vertical-align: top;\n",
       "    }\n",
       "\n",
       "    .dataframe thead th {\n",
       "        text-align: right;\n",
       "    }\n",
       "</style>\n",
       "<table border=\"1\" class=\"dataframe\">\n",
       "  <thead>\n",
       "    <tr style=\"text-align: right;\">\n",
       "      <th></th>\n",
       "      <th>total_funding</th>\n",
       "      <th>state_code</th>\n",
       "      <th>funding_rounds</th>\n",
       "      <th>average_raised_usd</th>\n",
       "      <th>average_time_delay_rounds_number</th>\n",
       "      <th>time_delayFor_first_round_number</th>\n",
       "      <th>No_Of_Investors</th>\n",
       "      <th>website_availibility</th>\n",
       "      <th>MainCategory_biotech</th>\n",
       "      <th>MainCategory_e-commerce</th>\n",
       "      <th>...</th>\n",
       "      <th>MainCategory_manufacturing</th>\n",
       "      <th>MainCategory_medicalGear</th>\n",
       "      <th>MainCategory_mobile</th>\n",
       "      <th>MainCategory_pharma</th>\n",
       "      <th>MainCategory_software</th>\n",
       "      <th>MainCategory_technology</th>\n",
       "      <th>USA_Region_Midwest</th>\n",
       "      <th>USA_Region_Northeast</th>\n",
       "      <th>USA_Region_South</th>\n",
       "      <th>USA_Region_West</th>\n",
       "    </tr>\n",
       "  </thead>\n",
       "  <tbody>\n",
       "    <tr>\n",
       "      <th>7232</th>\n",
       "      <td>3100000.0</td>\n",
       "      <td>33</td>\n",
       "      <td>2</td>\n",
       "      <td>1.550000e+06</td>\n",
       "      <td>888</td>\n",
       "      <td>888</td>\n",
       "      <td>2</td>\n",
       "      <td>1</td>\n",
       "      <td>0</td>\n",
       "      <td>0</td>\n",
       "      <td>...</td>\n",
       "      <td>0</td>\n",
       "      <td>0</td>\n",
       "      <td>0</td>\n",
       "      <td>0</td>\n",
       "      <td>0</td>\n",
       "      <td>0</td>\n",
       "      <td>0</td>\n",
       "      <td>0</td>\n",
       "      <td>0</td>\n",
       "      <td>1</td>\n",
       "    </tr>\n",
       "    <tr>\n",
       "      <th>3568</th>\n",
       "      <td>1125000.0</td>\n",
       "      <td>4</td>\n",
       "      <td>3</td>\n",
       "      <td>3.750000e+05</td>\n",
       "      <td>273</td>\n",
       "      <td>463</td>\n",
       "      <td>1</td>\n",
       "      <td>1</td>\n",
       "      <td>0</td>\n",
       "      <td>0</td>\n",
       "      <td>...</td>\n",
       "      <td>0</td>\n",
       "      <td>0</td>\n",
       "      <td>0</td>\n",
       "      <td>0</td>\n",
       "      <td>1</td>\n",
       "      <td>0</td>\n",
       "      <td>0</td>\n",
       "      <td>0</td>\n",
       "      <td>0</td>\n",
       "      <td>1</td>\n",
       "    </tr>\n",
       "    <tr>\n",
       "      <th>2284</th>\n",
       "      <td>7500000.0</td>\n",
       "      <td>4</td>\n",
       "      <td>2</td>\n",
       "      <td>3.750000e+06</td>\n",
       "      <td>245</td>\n",
       "      <td>245</td>\n",
       "      <td>1</td>\n",
       "      <td>1</td>\n",
       "      <td>0</td>\n",
       "      <td>0</td>\n",
       "      <td>...</td>\n",
       "      <td>0</td>\n",
       "      <td>0</td>\n",
       "      <td>0</td>\n",
       "      <td>0</td>\n",
       "      <td>0</td>\n",
       "      <td>0</td>\n",
       "      <td>0</td>\n",
       "      <td>0</td>\n",
       "      <td>0</td>\n",
       "      <td>1</td>\n",
       "    </tr>\n",
       "    <tr>\n",
       "      <th>3774</th>\n",
       "      <td>2000000.0</td>\n",
       "      <td>4</td>\n",
       "      <td>3</td>\n",
       "      <td>2.000000e+06</td>\n",
       "      <td>423</td>\n",
       "      <td>212</td>\n",
       "      <td>11</td>\n",
       "      <td>1</td>\n",
       "      <td>0</td>\n",
       "      <td>0</td>\n",
       "      <td>...</td>\n",
       "      <td>0</td>\n",
       "      <td>0</td>\n",
       "      <td>1</td>\n",
       "      <td>0</td>\n",
       "      <td>0</td>\n",
       "      <td>0</td>\n",
       "      <td>0</td>\n",
       "      <td>0</td>\n",
       "      <td>0</td>\n",
       "      <td>1</td>\n",
       "    </tr>\n",
       "    <tr>\n",
       "      <th>2463</th>\n",
       "      <td>6100000.0</td>\n",
       "      <td>19</td>\n",
       "      <td>2</td>\n",
       "      <td>1.770750e+06</td>\n",
       "      <td>357</td>\n",
       "      <td>132</td>\n",
       "      <td>17</td>\n",
       "      <td>1</td>\n",
       "      <td>0</td>\n",
       "      <td>0</td>\n",
       "      <td>...</td>\n",
       "      <td>0</td>\n",
       "      <td>0</td>\n",
       "      <td>0</td>\n",
       "      <td>0</td>\n",
       "      <td>1</td>\n",
       "      <td>0</td>\n",
       "      <td>0</td>\n",
       "      <td>1</td>\n",
       "      <td>0</td>\n",
       "      <td>0</td>\n",
       "    </tr>\n",
       "    <tr>\n",
       "      <th>...</th>\n",
       "      <td>...</td>\n",
       "      <td>...</td>\n",
       "      <td>...</td>\n",
       "      <td>...</td>\n",
       "      <td>...</td>\n",
       "      <td>...</td>\n",
       "      <td>...</td>\n",
       "      <td>...</td>\n",
       "      <td>...</td>\n",
       "      <td>...</td>\n",
       "      <td>...</td>\n",
       "      <td>...</td>\n",
       "      <td>...</td>\n",
       "      <td>...</td>\n",
       "      <td>...</td>\n",
       "      <td>...</td>\n",
       "      <td>...</td>\n",
       "      <td>...</td>\n",
       "      <td>...</td>\n",
       "      <td>...</td>\n",
       "      <td>...</td>\n",
       "    </tr>\n",
       "    <tr>\n",
       "      <th>2895</th>\n",
       "      <td>13790001.0</td>\n",
       "      <td>4</td>\n",
       "      <td>3</td>\n",
       "      <td>4.596667e+06</td>\n",
       "      <td>1266</td>\n",
       "      <td>1104</td>\n",
       "      <td>1</td>\n",
       "      <td>1</td>\n",
       "      <td>0</td>\n",
       "      <td>0</td>\n",
       "      <td>...</td>\n",
       "      <td>0</td>\n",
       "      <td>0</td>\n",
       "      <td>0</td>\n",
       "      <td>0</td>\n",
       "      <td>0</td>\n",
       "      <td>0</td>\n",
       "      <td>0</td>\n",
       "      <td>0</td>\n",
       "      <td>0</td>\n",
       "      <td>1</td>\n",
       "    </tr>\n",
       "    <tr>\n",
       "      <th>7813</th>\n",
       "      <td>9500000.0</td>\n",
       "      <td>7</td>\n",
       "      <td>3</td>\n",
       "      <td>3.166667e+06</td>\n",
       "      <td>403</td>\n",
       "      <td>434</td>\n",
       "      <td>13</td>\n",
       "      <td>1</td>\n",
       "      <td>0</td>\n",
       "      <td>0</td>\n",
       "      <td>...</td>\n",
       "      <td>0</td>\n",
       "      <td>0</td>\n",
       "      <td>0</td>\n",
       "      <td>0</td>\n",
       "      <td>1</td>\n",
       "      <td>0</td>\n",
       "      <td>0</td>\n",
       "      <td>0</td>\n",
       "      <td>1</td>\n",
       "      <td>0</td>\n",
       "    </tr>\n",
       "    <tr>\n",
       "      <th>905</th>\n",
       "      <td>25400000.0</td>\n",
       "      <td>4</td>\n",
       "      <td>3</td>\n",
       "      <td>8.466667e+06</td>\n",
       "      <td>425</td>\n",
       "      <td>521</td>\n",
       "      <td>7</td>\n",
       "      <td>1</td>\n",
       "      <td>0</td>\n",
       "      <td>0</td>\n",
       "      <td>...</td>\n",
       "      <td>1</td>\n",
       "      <td>0</td>\n",
       "      <td>0</td>\n",
       "      <td>0</td>\n",
       "      <td>0</td>\n",
       "      <td>0</td>\n",
       "      <td>0</td>\n",
       "      <td>0</td>\n",
       "      <td>0</td>\n",
       "      <td>1</td>\n",
       "    </tr>\n",
       "    <tr>\n",
       "      <th>5192</th>\n",
       "      <td>11021503.0</td>\n",
       "      <td>43</td>\n",
       "      <td>3</td>\n",
       "      <td>3.673834e+06</td>\n",
       "      <td>158</td>\n",
       "      <td>220</td>\n",
       "      <td>1</td>\n",
       "      <td>0</td>\n",
       "      <td>1</td>\n",
       "      <td>0</td>\n",
       "      <td>...</td>\n",
       "      <td>0</td>\n",
       "      <td>0</td>\n",
       "      <td>0</td>\n",
       "      <td>0</td>\n",
       "      <td>0</td>\n",
       "      <td>0</td>\n",
       "      <td>0</td>\n",
       "      <td>0</td>\n",
       "      <td>1</td>\n",
       "      <td>0</td>\n",
       "    </tr>\n",
       "    <tr>\n",
       "      <th>235</th>\n",
       "      <td>57777000.0</td>\n",
       "      <td>4</td>\n",
       "      <td>3</td>\n",
       "      <td>1.925900e+07</td>\n",
       "      <td>847</td>\n",
       "      <td>416</td>\n",
       "      <td>1</td>\n",
       "      <td>1</td>\n",
       "      <td>1</td>\n",
       "      <td>0</td>\n",
       "      <td>...</td>\n",
       "      <td>0</td>\n",
       "      <td>0</td>\n",
       "      <td>0</td>\n",
       "      <td>0</td>\n",
       "      <td>0</td>\n",
       "      <td>0</td>\n",
       "      <td>0</td>\n",
       "      <td>0</td>\n",
       "      <td>0</td>\n",
       "      <td>1</td>\n",
       "    </tr>\n",
       "  </tbody>\n",
       "</table>\n",
       "<p>7217 rows × 22 columns</p>\n",
       "</div>"
      ],
      "text/plain": [
       "      total_funding  state_code  funding_rounds  average_raised_usd  \\\n",
       "7232      3100000.0          33               2        1.550000e+06   \n",
       "3568      1125000.0           4               3        3.750000e+05   \n",
       "2284      7500000.0           4               2        3.750000e+06   \n",
       "3774      2000000.0           4               3        2.000000e+06   \n",
       "2463      6100000.0          19               2        1.770750e+06   \n",
       "...             ...         ...             ...                 ...   \n",
       "2895     13790001.0           4               3        4.596667e+06   \n",
       "7813      9500000.0           7               3        3.166667e+06   \n",
       "905      25400000.0           4               3        8.466667e+06   \n",
       "5192     11021503.0          43               3        3.673834e+06   \n",
       "235      57777000.0           4               3        1.925900e+07   \n",
       "\n",
       "      average_time_delay_rounds_number  time_delayFor_first_round_number  \\\n",
       "7232                               888                               888   \n",
       "3568                               273                               463   \n",
       "2284                               245                               245   \n",
       "3774                               423                               212   \n",
       "2463                               357                               132   \n",
       "...                                ...                               ...   \n",
       "2895                              1266                              1104   \n",
       "7813                               403                               434   \n",
       "905                                425                               521   \n",
       "5192                               158                               220   \n",
       "235                                847                               416   \n",
       "\n",
       "      No_Of_Investors  website_availibility  MainCategory_biotech  \\\n",
       "7232                2                     1                     0   \n",
       "3568                1                     1                     0   \n",
       "2284                1                     1                     0   \n",
       "3774               11                     1                     0   \n",
       "2463               17                     1                     0   \n",
       "...               ...                   ...                   ...   \n",
       "2895                1                     1                     0   \n",
       "7813               13                     1                     0   \n",
       "905                 7                     1                     0   \n",
       "5192                1                     0                     1   \n",
       "235                 1                     1                     1   \n",
       "\n",
       "      MainCategory_e-commerce  ...  MainCategory_manufacturing  \\\n",
       "7232                        0  ...                           0   \n",
       "3568                        0  ...                           0   \n",
       "2284                        0  ...                           0   \n",
       "3774                        0  ...                           0   \n",
       "2463                        0  ...                           0   \n",
       "...                       ...  ...                         ...   \n",
       "2895                        0  ...                           0   \n",
       "7813                        0  ...                           0   \n",
       "905                         0  ...                           1   \n",
       "5192                        0  ...                           0   \n",
       "235                         0  ...                           0   \n",
       "\n",
       "      MainCategory_medicalGear  MainCategory_mobile  MainCategory_pharma  \\\n",
       "7232                         0                    0                    0   \n",
       "3568                         0                    0                    0   \n",
       "2284                         0                    0                    0   \n",
       "3774                         0                    1                    0   \n",
       "2463                         0                    0                    0   \n",
       "...                        ...                  ...                  ...   \n",
       "2895                         0                    0                    0   \n",
       "7813                         0                    0                    0   \n",
       "905                          0                    0                    0   \n",
       "5192                         0                    0                    0   \n",
       "235                          0                    0                    0   \n",
       "\n",
       "      MainCategory_software  MainCategory_technology  USA_Region_Midwest  \\\n",
       "7232                      0                        0                   0   \n",
       "3568                      1                        0                   0   \n",
       "2284                      0                        0                   0   \n",
       "3774                      0                        0                   0   \n",
       "2463                      1                        0                   0   \n",
       "...                     ...                      ...                 ...   \n",
       "2895                      0                        0                   0   \n",
       "7813                      1                        0                   0   \n",
       "905                       0                        0                   0   \n",
       "5192                      0                        0                   0   \n",
       "235                       0                        0                   0   \n",
       "\n",
       "      USA_Region_Northeast  USA_Region_South  USA_Region_West  \n",
       "7232                     0                 0                1  \n",
       "3568                     0                 0                1  \n",
       "2284                     0                 0                1  \n",
       "3774                     0                 0                1  \n",
       "2463                     1                 0                0  \n",
       "...                    ...               ...              ...  \n",
       "2895                     0                 0                1  \n",
       "7813                     0                 1                0  \n",
       "905                      0                 0                1  \n",
       "5192                     0                 1                0  \n",
       "235                      0                 0                1  \n",
       "\n",
       "[7217 rows x 22 columns]"
      ]
     },
     "execution_count": 93,
     "metadata": {},
     "output_type": "execute_result"
    }
   ],
   "source": [
    "x_train"
   ]
  },
  {
   "cell_type": "code",
   "execution_count": 94,
   "metadata": {},
   "outputs": [],
   "source": [
    "y_train_df=pd.DataFrame(y_train)"
   ]
  },
  {
   "cell_type": "code",
   "execution_count": 95,
   "metadata": {},
   "outputs": [
    {
     "data": {
      "text/plain": [
       "1    6493\n",
       "0     724\n",
       "Name: status, dtype: int64"
      ]
     },
     "execution_count": 95,
     "metadata": {},
     "output_type": "execute_result"
    }
   ],
   "source": [
    "y_train_df['status'].value_counts()"
   ]
  },
  {
   "cell_type": "code",
   "execution_count": 96,
   "metadata": {},
   "outputs": [
    {
     "data": {
      "text/html": [
       "<div>\n",
       "<style scoped>\n",
       "    .dataframe tbody tr th:only-of-type {\n",
       "        vertical-align: middle;\n",
       "    }\n",
       "\n",
       "    .dataframe tbody tr th {\n",
       "        vertical-align: top;\n",
       "    }\n",
       "\n",
       "    .dataframe thead th {\n",
       "        text-align: right;\n",
       "    }\n",
       "</style>\n",
       "<table border=\"1\" class=\"dataframe\">\n",
       "  <thead>\n",
       "    <tr style=\"text-align: right;\">\n",
       "      <th></th>\n",
       "      <th>status</th>\n",
       "    </tr>\n",
       "  </thead>\n",
       "  <tbody>\n",
       "    <tr>\n",
       "      <th>7232</th>\n",
       "      <td>1</td>\n",
       "    </tr>\n",
       "    <tr>\n",
       "      <th>3568</th>\n",
       "      <td>1</td>\n",
       "    </tr>\n",
       "    <tr>\n",
       "      <th>2284</th>\n",
       "      <td>0</td>\n",
       "    </tr>\n",
       "    <tr>\n",
       "      <th>3774</th>\n",
       "      <td>1</td>\n",
       "    </tr>\n",
       "    <tr>\n",
       "      <th>2463</th>\n",
       "      <td>1</td>\n",
       "    </tr>\n",
       "    <tr>\n",
       "      <th>...</th>\n",
       "      <td>...</td>\n",
       "    </tr>\n",
       "    <tr>\n",
       "      <th>2895</th>\n",
       "      <td>0</td>\n",
       "    </tr>\n",
       "    <tr>\n",
       "      <th>7813</th>\n",
       "      <td>1</td>\n",
       "    </tr>\n",
       "    <tr>\n",
       "      <th>905</th>\n",
       "      <td>1</td>\n",
       "    </tr>\n",
       "    <tr>\n",
       "      <th>5192</th>\n",
       "      <td>1</td>\n",
       "    </tr>\n",
       "    <tr>\n",
       "      <th>235</th>\n",
       "      <td>0</td>\n",
       "    </tr>\n",
       "  </tbody>\n",
       "</table>\n",
       "<p>7217 rows × 1 columns</p>\n",
       "</div>"
      ],
      "text/plain": [
       "      status\n",
       "7232       1\n",
       "3568       1\n",
       "2284       0\n",
       "3774       1\n",
       "2463       1\n",
       "...      ...\n",
       "2895       0\n",
       "7813       1\n",
       "905        1\n",
       "5192       1\n",
       "235        0\n",
       "\n",
       "[7217 rows x 1 columns]"
      ]
     },
     "execution_count": 96,
     "metadata": {},
     "output_type": "execute_result"
    }
   ],
   "source": [
    "y_train_df"
   ]
  },
  {
   "cell_type": "code",
   "execution_count": 97,
   "metadata": {},
   "outputs": [],
   "source": [
    "sampler=RandomOverSampler(random_state=0)"
   ]
  },
  {
   "cell_type": "code",
   "execution_count": 98,
   "metadata": {},
   "outputs": [],
   "source": [
    "x_rs, y_rs=sampler.fit_sample(x_train,y_train)"
   ]
  },
  {
   "cell_type": "code",
   "execution_count": 99,
   "metadata": {},
   "outputs": [],
   "source": [
    "y_rs_df=pd.DataFrame(y_rs)"
   ]
  },
  {
   "cell_type": "code",
   "execution_count": 100,
   "metadata": {},
   "outputs": [
    {
     "data": {
      "text/plain": [
       "1    6493\n",
       "0    6493\n",
       "Name: status, dtype: int64"
      ]
     },
     "execution_count": 100,
     "metadata": {},
     "output_type": "execute_result"
    }
   ],
   "source": [
    "y_rs_df['status'].value_counts()"
   ]
  },
  {
   "cell_type": "code",
   "execution_count": 101,
   "metadata": {},
   "outputs": [],
   "source": [
    "clf=DecisionTreeClassifier(criterion='entropy',max_depth=5)"
   ]
  },
  {
   "cell_type": "code",
   "execution_count": 102,
   "metadata": {},
   "outputs": [
    {
     "data": {
      "text/plain": [
       "DecisionTreeClassifier(criterion='entropy', max_depth=5)"
      ]
     },
     "execution_count": 102,
     "metadata": {},
     "output_type": "execute_result"
    }
   ],
   "source": [
    "clf.fit(x_rs,y_rs)"
   ]
  },
  {
   "cell_type": "code",
   "execution_count": 103,
   "metadata": {},
   "outputs": [],
   "source": [
    "y_pred=clf.predict(x_test_val)\n"
   ]
  },
  {
   "cell_type": "code",
   "execution_count": 104,
   "metadata": {},
   "outputs": [
    {
     "name": "stdout",
     "output_type": "stream",
     "text": [
      "Predicted Observations    0     1\n",
      "Actual Observations              \n",
      "0                       135   109\n",
      "1                       763  1399\n"
     ]
    }
   ],
   "source": [
    "print(pd.crosstab(y_test,y_pred,rownames=['Actual Observations'],\n",
    "                  colnames=['Predicted Observations']))"
   ]
  },
  {
   "cell_type": "code",
   "execution_count": 105,
   "metadata": {},
   "outputs": [
    {
     "name": "stdout",
     "output_type": "stream",
     "text": [
      "              precision    recall  f1-score   support\n",
      "\n",
      "           0       0.15      0.55      0.24       244\n",
      "           1       0.93      0.65      0.76      2162\n",
      "\n",
      "    accuracy                           0.64      2406\n",
      "   macro avg       0.54      0.60      0.50      2406\n",
      "weighted avg       0.85      0.64      0.71      2406\n",
      "\n"
     ]
    }
   ],
   "source": [
    "print(classification_report(y_test,y_pred))"
   ]
  },
  {
   "cell_type": "code",
   "execution_count": 106,
   "metadata": {},
   "outputs": [
    {
     "name": "stdout",
     "output_type": "stream",
     "text": [
      "Accuracy: 0.6375727348295926\n"
     ]
    }
   ],
   "source": [
    "print(\"Accuracy:\",metrics.accuracy_score(y_test,y_pred))"
   ]
  },
  {
   "cell_type": "code",
   "execution_count": 108,
   "metadata": {},
   "outputs": [],
   "source": [
    "#RandomForest using RandomOversampling\n",
    "\n",
    "random_forest=RandomForestClassifier(n_estimators=10,criterion='entropy',random_state=42)\n",
    "#n_estimators to define number of trees\n",
    "#random_state to avoid variance in the results"
   ]
  },
  {
   "cell_type": "code",
   "execution_count": 109,
   "metadata": {},
   "outputs": [
    {
     "data": {
      "text/plain": [
       "RandomForestClassifier(criterion='entropy', n_estimators=10, random_state=42)"
      ]
     },
     "execution_count": 109,
     "metadata": {},
     "output_type": "execute_result"
    }
   ],
   "source": [
    "random_forest.fit(x_rs,y_rs)"
   ]
  },
  {
   "cell_type": "code",
   "execution_count": 110,
   "metadata": {},
   "outputs": [],
   "source": [
    "y_pred=random_forest.predict(x_test_val)"
   ]
  },
  {
   "cell_type": "code",
   "execution_count": 111,
   "metadata": {},
   "outputs": [
    {
     "name": "stdout",
     "output_type": "stream",
     "text": [
      "Predicted Observations   0     1\n",
      "Actual Observations             \n",
      "0                       42   202\n",
      "1                       98  2064\n",
      "              precision    recall  f1-score   support\n",
      "\n",
      "           0       0.30      0.17      0.22       244\n",
      "           1       0.91      0.95      0.93      2162\n",
      "\n",
      "    accuracy                           0.88      2406\n",
      "   macro avg       0.61      0.56      0.58      2406\n",
      "weighted avg       0.85      0.88      0.86      2406\n",
      "\n",
      "Accuracy: 0.8753117206982544\n"
     ]
    }
   ],
   "source": [
    "print(pd.crosstab(y_test,y_pred,rownames=['Actual Observations'],\n",
    "                  colnames=['Predicted Observations']))\n",
    "print(classification_report(y_test,y_pred))\n",
    "print(\"Accuracy:\",metrics.accuracy_score(y_test,y_pred))"
   ]
  },
  {
   "cell_type": "code",
   "execution_count": 112,
   "metadata": {},
   "outputs": [],
   "source": [
    "#Gradient Boosting\n",
    "model=GradientBoostingClassifier()"
   ]
  },
  {
   "cell_type": "code",
   "execution_count": 113,
   "metadata": {},
   "outputs": [
    {
     "data": {
      "text/plain": [
       "GradientBoostingClassifier()"
      ]
     },
     "execution_count": 113,
     "metadata": {},
     "output_type": "execute_result"
    }
   ],
   "source": [
    "model.fit(x_rs,y_rs)"
   ]
  },
  {
   "cell_type": "code",
   "execution_count": 114,
   "metadata": {},
   "outputs": [],
   "source": [
    "\n",
    "y_pred=model.predict(x_test_val)"
   ]
  },
  {
   "cell_type": "code",
   "execution_count": 115,
   "metadata": {},
   "outputs": [
    {
     "name": "stdout",
     "output_type": "stream",
     "text": [
      "Predicted Observations    0     1\n",
      "Actual Observations              \n",
      "0                       118   126\n",
      "1                       535  1627\n",
      "              precision    recall  f1-score   support\n",
      "\n",
      "           0       0.18      0.48      0.26       244\n",
      "           1       0.93      0.75      0.83      2162\n",
      "\n",
      "    accuracy                           0.73      2406\n",
      "   macro avg       0.55      0.62      0.55      2406\n",
      "weighted avg       0.85      0.73      0.77      2406\n",
      "\n",
      "Accuracy: 0.7252701579384871\n"
     ]
    }
   ],
   "source": [
    "print(pd.crosstab(y_test,y_pred,rownames=['Actual Observations'],\n",
    "                  colnames=['Predicted Observations']))\n",
    "print(classification_report(y_test,y_pred))\n",
    "print(\"Accuracy:\",metrics.accuracy_score(y_test,y_pred))"
   ]
  },
  {
   "cell_type": "code",
   "execution_count": 116,
   "metadata": {},
   "outputs": [],
   "source": [
    "#Synthetic Minority Over Sampling Technique(SMOT)\n",
    "sampler=SMOTE(random_state=0)\n",
    "x_rs,y_rs=sampler.fit_sample(x_train,y_train)\n"
   ]
  },
  {
   "cell_type": "code",
   "execution_count": 117,
   "metadata": {},
   "outputs": [],
   "source": [
    "y_rs_df=pd.DataFrame(y_rs)"
   ]
  },
  {
   "cell_type": "code",
   "execution_count": 118,
   "metadata": {},
   "outputs": [
    {
     "data": {
      "text/plain": [
       "1    6493\n",
       "0    6493\n",
       "Name: status, dtype: int64"
      ]
     },
     "execution_count": 118,
     "metadata": {},
     "output_type": "execute_result"
    }
   ],
   "source": [
    "y_rs_df['status'].value_counts()"
   ]
  },
  {
   "cell_type": "code",
   "execution_count": 119,
   "metadata": {},
   "outputs": [],
   "source": [
    "dtc=DecisionTreeClassifier(criterion=\"entropy\",max_depth=7)"
   ]
  },
  {
   "cell_type": "code",
   "execution_count": 120,
   "metadata": {},
   "outputs": [
    {
     "data": {
      "text/plain": [
       "DecisionTreeClassifier(criterion='entropy', max_depth=7)"
      ]
     },
     "execution_count": 120,
     "metadata": {},
     "output_type": "execute_result"
    }
   ],
   "source": [
    "dtc.fit(x_rs,y_rs)"
   ]
  },
  {
   "cell_type": "code",
   "execution_count": 121,
   "metadata": {},
   "outputs": [],
   "source": [
    "y_pred=dtc.predict(x_test_val)"
   ]
  },
  {
   "cell_type": "code",
   "execution_count": 122,
   "metadata": {},
   "outputs": [
    {
     "name": "stdout",
     "output_type": "stream",
     "text": [
      "Predicted Observations    0     1\n",
      "Actual Observations              \n",
      "0                        73   171\n",
      "1                       342  1820\n",
      "              precision    recall  f1-score   support\n",
      "\n",
      "           0       0.18      0.30      0.22       244\n",
      "           1       0.91      0.84      0.88      2162\n",
      "\n",
      "    accuracy                           0.79      2406\n",
      "   macro avg       0.55      0.57      0.55      2406\n",
      "weighted avg       0.84      0.79      0.81      2406\n",
      "\n",
      "Accuracy: 0.786783042394015\n"
     ]
    }
   ],
   "source": [
    "print(pd.crosstab(y_test,y_pred,rownames=['Actual Observations'],\n",
    "                  colnames=['Predicted Observations']))\n",
    "print(classification_report(y_test,y_pred))\n",
    "print(\"Accuracy:\",metrics.accuracy_score(y_test,y_pred))"
   ]
  },
  {
   "cell_type": "code",
   "execution_count": 123,
   "metadata": {},
   "outputs": [],
   "source": [
    "#RandomForest using SMOTE\n",
    "random=RandomForestClassifier(criterion='entropy',\n",
    "                              n_estimators=10,random_state=43)"
   ]
  },
  {
   "cell_type": "code",
   "execution_count": 124,
   "metadata": {},
   "outputs": [
    {
     "data": {
      "text/plain": [
       "RandomForestClassifier(criterion='entropy', n_estimators=10, random_state=43)"
      ]
     },
     "execution_count": 124,
     "metadata": {},
     "output_type": "execute_result"
    }
   ],
   "source": [
    "random.fit(x_rs,y_rs)"
   ]
  },
  {
   "cell_type": "code",
   "execution_count": 125,
   "metadata": {},
   "outputs": [],
   "source": [
    "y_pred=random.predict(x_test_val)"
   ]
  },
  {
   "cell_type": "code",
   "execution_count": 126,
   "metadata": {},
   "outputs": [
    {
     "name": "stdout",
     "output_type": "stream",
     "text": [
      "Predicted Observations    0     1\n",
      "Actual Observations              \n",
      "0                        41   203\n",
      "1                       136  2026\n",
      "              precision    recall  f1-score   support\n",
      "\n",
      "           0       0.23      0.17      0.19       244\n",
      "           1       0.91      0.94      0.92      2162\n",
      "\n",
      "    accuracy                           0.86      2406\n",
      "   macro avg       0.57      0.55      0.56      2406\n",
      "weighted avg       0.84      0.86      0.85      2406\n",
      "\n",
      "Accuracy: 0.8591022443890274\n"
     ]
    }
   ],
   "source": [
    "print(pd.crosstab(y_test,y_pred,rownames=['Actual Observations'],\n",
    "                  colnames=['Predicted Observations']))\n",
    "print(classification_report(y_test,y_pred))\n",
    "print(\"Accuracy:\",metrics.accuracy_score(y_test,y_pred))"
   ]
  },
  {
   "cell_type": "code",
   "execution_count": 127,
   "metadata": {},
   "outputs": [],
   "source": [
    "#GradientBoosting using SMOTE\n",
    "gradient=GradientBoostingClassifier()"
   ]
  },
  {
   "cell_type": "code",
   "execution_count": 128,
   "metadata": {},
   "outputs": [
    {
     "data": {
      "text/plain": [
       "GradientBoostingClassifier()"
      ]
     },
     "execution_count": 128,
     "metadata": {},
     "output_type": "execute_result"
    }
   ],
   "source": [
    "gradient.fit(x_rs,y_rs)"
   ]
  },
  {
   "cell_type": "code",
   "execution_count": 129,
   "metadata": {},
   "outputs": [],
   "source": [
    "y_pred=gradient.predict(x_test_val)"
   ]
  },
  {
   "cell_type": "code",
   "execution_count": 130,
   "metadata": {},
   "outputs": [
    {
     "name": "stdout",
     "output_type": "stream",
     "text": [
      "Predicted Observations    0     1\n",
      "Actual Observations              \n",
      "0                        39   205\n",
      "1                       108  2054\n",
      "              precision    recall  f1-score   support\n",
      "\n",
      "           0       0.27      0.16      0.20       244\n",
      "           1       0.91      0.95      0.93      2162\n",
      "\n",
      "    accuracy                           0.87      2406\n",
      "   macro avg       0.59      0.55      0.56      2406\n",
      "weighted avg       0.84      0.87      0.86      2406\n",
      "\n",
      "Accuracy: 0.8699085619285121\n"
     ]
    }
   ],
   "source": [
    "print(pd.crosstab(y_test,y_pred,rownames=['Actual Observations'],\n",
    "                  colnames=['Predicted Observations']))\n",
    "print(classification_report(y_test,y_pred))\n",
    "print(\"Accuracy:\",metrics.accuracy_score(y_test,y_pred))"
   ]
  },
  {
   "cell_type": "code",
   "execution_count": 131,
   "metadata": {},
   "outputs": [],
   "source": [
    "#AsyntheticSampling\n",
    "sampler=SMOTE(random_state=0)\n",
    "asyn=ADASYN(sampling_strategy='minority',random_state=420,n_neighbors=10)\n",
    "x_rs,y_rs=asyn.fit_sample(x_train,y_train)\n"
   ]
  },
  {
   "cell_type": "code",
   "execution_count": 132,
   "metadata": {},
   "outputs": [],
   "source": [
    "y_rd_df=pd.DataFrame(y_rs)"
   ]
  },
  {
   "cell_type": "code",
   "execution_count": 133,
   "metadata": {},
   "outputs": [
    {
     "data": {
      "text/plain": [
       "1    6493\n",
       "0    6340\n",
       "Name: status, dtype: int64"
      ]
     },
     "execution_count": 133,
     "metadata": {},
     "output_type": "execute_result"
    }
   ],
   "source": [
    "y_rd_df['status'].value_counts()"
   ]
  },
  {
   "cell_type": "code",
   "execution_count": 134,
   "metadata": {},
   "outputs": [],
   "source": [
    "#DecisionTree using ADASYN\n",
    "decision_tree=DecisionTreeClassifier(criterion='entropy', max_depth=10)\n"
   ]
  },
  {
   "cell_type": "code",
   "execution_count": 135,
   "metadata": {},
   "outputs": [
    {
     "data": {
      "text/plain": [
       "DecisionTreeClassifier(criterion='entropy', max_depth=10)"
      ]
     },
     "execution_count": 135,
     "metadata": {},
     "output_type": "execute_result"
    }
   ],
   "source": [
    "decision_tree.fit(x_rs,y_rs)"
   ]
  },
  {
   "cell_type": "code",
   "execution_count": 136,
   "metadata": {},
   "outputs": [],
   "source": [
    "y_pred=decision_tree.predict(x_test_val)"
   ]
  },
  {
   "cell_type": "code",
   "execution_count": 137,
   "metadata": {},
   "outputs": [
    {
     "name": "stdout",
     "output_type": "stream",
     "text": [
      "Predicted Observations    0     1\n",
      "Actual Observations              \n",
      "0                        53   191\n",
      "1                       199  1963\n",
      "              precision    recall  f1-score   support\n",
      "\n",
      "           0       0.21      0.22      0.21       244\n",
      "           1       0.91      0.91      0.91      2162\n",
      "\n",
      "    accuracy                           0.84      2406\n",
      "   macro avg       0.56      0.56      0.56      2406\n",
      "weighted avg       0.84      0.84      0.84      2406\n",
      "\n",
      "Accuracy: 0.8379052369077307\n"
     ]
    }
   ],
   "source": [
    "print(pd.crosstab(y_test,y_pred,rownames=['Actual Observations'],\n",
    "                  colnames=['Predicted Observations']))\n",
    "print(classification_report(y_test,y_pred))\n",
    "print(\"Accuracy:\",metrics.accuracy_score(y_test,y_pred))"
   ]
  },
  {
   "cell_type": "code",
   "execution_count": 138,
   "metadata": {},
   "outputs": [],
   "source": [
    "#RandomForest using ADASYN\n",
    "random=RandomForestClassifier(criterion='entropy',\n",
    "                              n_estimators=15,random_state=45)"
   ]
  },
  {
   "cell_type": "code",
   "execution_count": 139,
   "metadata": {},
   "outputs": [
    {
     "data": {
      "text/plain": [
       "RandomForestClassifier(criterion='entropy', n_estimators=15, random_state=45)"
      ]
     },
     "execution_count": 139,
     "metadata": {},
     "output_type": "execute_result"
    }
   ],
   "source": [
    "random.fit(x_rs,y_rs)"
   ]
  },
  {
   "cell_type": "code",
   "execution_count": 140,
   "metadata": {},
   "outputs": [],
   "source": [
    "y_pred=random.predict(x_test_val)"
   ]
  },
  {
   "cell_type": "code",
   "execution_count": 141,
   "metadata": {},
   "outputs": [
    {
     "name": "stdout",
     "output_type": "stream",
     "text": [
      "Predicted Observations   0     1\n",
      "Actual Observations             \n",
      "0                       28   216\n",
      "1                       85  2077\n",
      "              precision    recall  f1-score   support\n",
      "\n",
      "           0       0.25      0.11      0.16       244\n",
      "           1       0.91      0.96      0.93      2162\n",
      "\n",
      "    accuracy                           0.87      2406\n",
      "   macro avg       0.58      0.54      0.54      2406\n",
      "weighted avg       0.84      0.87      0.85      2406\n",
      "\n",
      "Accuracy: 0.8748960931005819\n"
     ]
    }
   ],
   "source": [
    "print(pd.crosstab(y_test,y_pred,rownames=['Actual Observations'],\n",
    "                  colnames=['Predicted Observations']))\n",
    "print(classification_report(y_test,y_pred))\n",
    "print(\"Accuracy:\",metrics.accuracy_score(y_test,y_pred))"
   ]
  },
  {
   "cell_type": "code",
   "execution_count": 142,
   "metadata": {},
   "outputs": [],
   "source": [
    "#GradientBoosting using ADASYN\n",
    "boost=GradientBoostingClassifier()"
   ]
  },
  {
   "cell_type": "code",
   "execution_count": 143,
   "metadata": {},
   "outputs": [
    {
     "data": {
      "text/plain": [
       "GradientBoostingClassifier()"
      ]
     },
     "execution_count": 143,
     "metadata": {},
     "output_type": "execute_result"
    }
   ],
   "source": [
    "boost.fit(x_rs,y_rs)"
   ]
  },
  {
   "cell_type": "code",
   "execution_count": 144,
   "metadata": {},
   "outputs": [],
   "source": [
    "y_pred=boost.predict(x_test_val)"
   ]
  },
  {
   "cell_type": "code",
   "execution_count": 145,
   "metadata": {},
   "outputs": [
    {
     "name": "stdout",
     "output_type": "stream",
     "text": [
      "Predicted Observations   0     1\n",
      "Actual Observations             \n",
      "0                       37   207\n",
      "1                       80  2082\n",
      "              precision    recall  f1-score   support\n",
      "\n",
      "           0       0.32      0.15      0.20       244\n",
      "           1       0.91      0.96      0.94      2162\n",
      "\n",
      "    accuracy                           0.88      2406\n",
      "   macro avg       0.61      0.56      0.57      2406\n",
      "weighted avg       0.85      0.88      0.86      2406\n",
      "\n",
      "Accuracy: 0.8807148794679966\n"
     ]
    }
   ],
   "source": [
    "print(pd.crosstab(y_test,y_pred,rownames=['Actual Observations'],\n",
    "                  colnames=['Predicted Observations']))\n",
    "print(classification_report(y_test,y_pred))\n",
    "print(\"Accuracy:\",metrics.accuracy_score(y_test,y_pred))"
   ]
  },
  {
   "cell_type": "code",
   "execution_count": 146,
   "metadata": {},
   "outputs": [],
   "source": [
    "#Feature Engeering\n",
    "corr=data.corr()\n"
   ]
  },
  {
   "cell_type": "code",
   "execution_count": 147,
   "metadata": {},
   "outputs": [
    {
     "data": {
      "text/plain": [
       "<matplotlib.axes._subplots.AxesSubplot at 0x21275f96708>"
      ]
     },
     "execution_count": 147,
     "metadata": {},
     "output_type": "execute_result"
    },
    {
     "data": {
      "image/png": "[encoded data removed]",
      "text/plain": [
       "<Figure size 432x288 with 2 Axes>"
      ]
     },
     "metadata": {
      "needs_background": "light"
     },
     "output_type": "display_data"
    }
   ],
   "source": [
    "sns.heatmap(corr)"
   ]
  },
  {
   "cell_type": "code",
   "execution_count": 148,
   "metadata": {},
   "outputs": [
    {
     "data": {
      "text/plain": [
       "RandomForestClassifier(criterion='entropy', n_estimators=15, random_state=45)"
      ]
     },
     "execution_count": 148,
     "metadata": {},
     "output_type": "execute_result"
    }
   ],
   "source": [
    "random.fit(x_rs,y_rs)"
   ]
  },
  {
   "cell_type": "code",
   "execution_count": 152,
   "metadata": {},
   "outputs": [
    {
     "data": {
      "text/plain": [
       "(9623, 23)"
      ]
     },
     "execution_count": 152,
     "metadata": {},
     "output_type": "execute_result"
    }
   ],
   "source": [
    "data.shape"
   ]
  },
  {
   "cell_type": "code",
   "execution_count": 157,
   "metadata": {},
   "outputs": [],
   "source": [
    "fe=data.iloc[:,np.r_[0,2:23]]"
   ]
  },
  {
   "cell_type": "code",
   "execution_count": 158,
   "metadata": {},
   "outputs": [],
   "source": [
    "feature_imp=pd.Series(random.feature_importances_, \n",
    "                      index=fe.columns).sort_values(ascending=False)"
   ]
  },
  {
   "cell_type": "code",
   "execution_count": 159,
   "metadata": {},
   "outputs": [
    {
     "data": {
      "text/plain": [
       "total_funding                       0.102087\n",
       "average_raised_usd                  0.093450\n",
       "MainCategory_software               0.081006\n",
       "time_delayFor_first_round_number    0.072531\n",
       "state_code                          0.070856\n",
       "average_time_delay_rounds_number    0.069182\n",
       "USA_Region_South                    0.059557\n",
       "USA_Region_Northeast                0.052068\n",
       "MainCategory_mobile                 0.049404\n",
       "USA_Region_Midwest                  0.046546\n",
       "No_Of_Investors                     0.044357\n",
       "USA_Region_West                     0.037581\n",
       "MainCategory_healthcare             0.037139\n",
       "MainCategory_biotech                0.032814\n",
       "funding_rounds                      0.031814\n",
       "MainCategory_e-commerce             0.026162\n",
       "MainCategory_technology             0.022418\n",
       "MainCategory_pharma                 0.020640\n",
       "MainCategory_games                  0.020353\n",
       "MainCategory_medicalGear            0.013702\n",
       "MainCategory_manufacturing          0.013121\n",
       "website_availibility                0.003211\n",
       "dtype: float64"
      ]
     },
     "execution_count": 159,
     "metadata": {},
     "output_type": "execute_result"
    }
   ],
   "source": [
    "feature_imp"
   ]
  },
  {
   "cell_type": "code",
   "execution_count": 160,
   "metadata": {},
   "outputs": [
    {
     "data": {
      "image/png": "[encoded data removed]",
      "text/plain": [
       "<Figure size 432x288 with 1 Axes>"
      ]
     },
     "metadata": {
      "needs_background": "light"
     },
     "output_type": "display_data"
    }
   ],
   "source": [
    "sns.barplot(x=feature_imp,y=feature_imp.index)\n",
    "plt.xlabel('Feature Importance Score')\n",
    "plt.ylabel('Features')\n",
    "plt.title('Visualizing Important Features')\n",
    "plt.show()"
   ]
  },
  {
   "cell_type": "code",
   "execution_count": null,
   "metadata": {},
   "outputs": [],
   "source": []
  },
  {
   "cell_type": "code",
   "execution_count": null,
   "metadata": {},
   "outputs": [],
   "source": []
  },
  {
   "cell_type": "code",
   "execution_count": null,
   "metadata": {},
   "outputs": [],
   "source": []
  }
 ],
 "metadata": {
  "kernelspec": {
   "display_name": "Python 3",
   "language": "python",
   "name": "python3"
  },
  "language_info": {
   "codemirror_mode": {
    "name": "ipython",
    "version": 3
   },
   "file_extension": ".py",
   "mimetype": "text/x-python",
   "name": "python",
   "nbconvert_exporter": "python",
   "pygments_lexer": "ipython3",
   "version": "3.7.4"
  }
 },
 "nbformat": 4,
 "nbformat_minor": 2
}
